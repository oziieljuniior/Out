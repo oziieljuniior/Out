{
 "cells": [
  {
   "cell_type": "markdown",
   "metadata": {},
   "source": [
    "# Aleatoriedade - 21.03.25\n",
    "---"
   ]
  },
  {
   "cell_type": "markdown",
   "metadata": {},
   "source": [
    "## Objetivo Geral\n",
    "Trabalhar com sequências aleatórias e testar seu grau de aleatoriedade pela entropia de sequências aleatórias.\n",
    "\n",
    "---"
   ]
  },
  {
   "cell_type": "markdown",
   "metadata": {},
   "source": [
    "### Teste 1"
   ]
  },
  {
   "cell_type": "code",
   "execution_count": 3,
   "metadata": {},
   "outputs": [],
   "source": [
    "import pandas as pd\n",
    "import numpy as np"
   ]
  },
  {
   "cell_type": "code",
   "execution_count": 4,
   "metadata": {},
   "outputs": [],
   "source": [
    "#Função que trata array em uma matriz sequencial\n",
    "def matriz(num_colunas, array1):\n",
    "    \"\"\"\n",
    "    Gera uma matriz sequencial a partir de um array, com o número de colunas especificado.\n",
    "\n",
    "    Args:\n",
    "        array (list ou np.ndarray): Array de entrada.\n",
    "        num_colunas (int): Número de colunas desejado na matriz.\n",
    "\n",
    "    Returns:\n",
    "        np.ndarray: Matriz sequencial.\n",
    "    \"\"\"\n",
    "    if num_colunas > len(array1):\n",
    "        raise ValueError(\"O número de colunas não pode ser maior que o tamanho do array.\")\n",
    "\n",
    "    # Número de linhas na matriz\n",
    "    num_linhas = len(array1) - num_colunas + 1\n",
    "\n",
    "    # Criando a matriz sequencial\n",
    "    matriz = np.array([array1[i:i + num_colunas] for i in range(num_linhas)])\n",
    "    return matriz"
   ]
  },
  {
   "cell_type": "code",
   "execution_count": 5,
   "metadata": {},
   "outputs": [
    {
     "data": {
      "text/plain": [
       "array([  0,   1,   2,   3,   4,   5,   6,   7,   8,   9,  10,  11,  12,\n",
       "        13,  14,  15,  16,  17,  18,  19,  20,  21,  22,  23,  24,  25,\n",
       "        26,  27,  28,  29,  30,  31,  32,  33,  34,  35,  36,  37,  38,\n",
       "        39,  40,  41,  42,  43,  44,  45,  46,  47,  48,  49,  50,  51,\n",
       "        52,  53,  54,  55,  56,  57,  58,  59,  60,  61,  62,  63,  64,\n",
       "        65,  66,  67,  68,  69,  70,  71,  72,  73,  74,  75,  76,  77,\n",
       "        78,  79,  80,  81,  82,  83,  84,  85,  86,  87,  88,  89,  90,\n",
       "        91,  92,  93,  94,  95,  96,  97,  98,  99, 100, 101, 102, 103,\n",
       "       104, 105, 106, 107, 108, 109, 110, 111, 112, 113, 114, 115, 116,\n",
       "       117, 118, 119, 120, 121, 122, 123, 124, 125, 126, 127, 128, 129,\n",
       "       130, 131, 132, 133, 134, 135, 136, 137, 138, 139, 140, 141, 142,\n",
       "       143, 144, 145, 146, 147, 148, 149, 150, 151, 152, 153, 154, 155,\n",
       "       156, 157, 158, 159, 160, 161, 162, 163, 164, 165, 166, 167, 168,\n",
       "       169, 170, 171, 172, 173, 174, 175, 176, 177, 178, 179, 180, 181,\n",
       "       182, 183, 184, 185, 186, 187, 188, 189, 190, 191, 192, 193, 194,\n",
       "       195, 196, 197, 198, 199, 200, 201, 202, 203, 204, 205, 206, 207,\n",
       "       208, 209, 210, 211, 212, 213, 214, 215, 216, 217, 218, 219, 220,\n",
       "       221, 222, 223, 224, 225, 226, 227, 228, 229, 230, 231, 232, 233,\n",
       "       234, 235, 236, 237, 238, 239, 240, 241, 242, 243, 244, 245, 246,\n",
       "       247, 248, 249, 250, 251, 252, 253, 254, 255, 256, 257, 258, 259,\n",
       "       260, 261, 262, 263, 264, 265, 266, 267, 268, 269, 270, 271, 272,\n",
       "       273, 274, 275, 276, 277, 278, 279, 280, 281, 282, 283, 284, 285,\n",
       "       286, 287, 288, 289, 290, 291, 292, 293, 294, 295, 296, 297, 298,\n",
       "       299])"
      ]
     },
     "execution_count": 5,
     "metadata": {},
     "output_type": "execute_result"
    }
   ],
   "source": [
    "array = np.arange(300)\n",
    "\n",
    "array"
   ]
  },
  {
   "cell_type": "code",
   "execution_count": 6,
   "metadata": {},
   "outputs": [
    {
     "data": {
      "text/plain": [
       "array([[  0,   1,   2, ...,  27,  28,  29],\n",
       "       [  1,   2,   3, ...,  28,  29,  30],\n",
       "       [  2,   3,   4, ...,  29,  30,  31],\n",
       "       ...,\n",
       "       [268, 269, 270, ..., 295, 296, 297],\n",
       "       [269, 270, 271, ..., 296, 297, 298],\n",
       "       [270, 271, 272, ..., 297, 298, 299]], shape=(271, 30))"
      ]
     },
     "execution_count": 6,
     "metadata": {},
     "output_type": "execute_result"
    }
   ],
   "source": [
    "matriz1 = matriz(30,array)\n",
    "matriz1"
   ]
  },
  {
   "cell_type": "code",
   "execution_count": 8,
   "metadata": {},
   "outputs": [
    {
     "data": {
      "text/plain": [
       "<bound method NDFrame.head of         Unnamed: 0    Odd  Odd_Categoria  odd_entrada\n",
       "0                0   3.85              9         11.0\n",
       "1                1   6.96             10          9.0\n",
       "2                2   5.41             10         10.0\n",
       "3                3   1.05              2         10.0\n",
       "4                4   1.70              6          2.0\n",
       "...            ...    ...            ...          ...\n",
       "199994      199994   1.62              5         11.0\n",
       "199995      199995   2.61              8          5.0\n",
       "199996      199996  14.20             11          8.0\n",
       "199997      199997   4.11              9         11.0\n",
       "199998      199998   3.36              8          9.0\n",
       "\n",
       "[199999 rows x 4 columns]>"
      ]
     },
     "execution_count": 8,
     "metadata": {},
     "output_type": "execute_result"
    }
   ],
   "source": [
    "data1 = pd.read_csv(\"/home/darkcover1/Documentos/Work/Out/dados/odds_200k.csv\")\n",
    "data1.head"
   ]
  },
  {
   "cell_type": "code",
   "execution_count": 9,
   "metadata": {},
   "outputs": [],
   "source": [
    "array1 = []\n",
    "for i in range(0, 1200):\n",
    "    numero_odd = data1['Odd'][i]\n",
    "    if numero_odd >= 3:\n",
    "        array1.append(1)\n",
    "    else:\n",
    "        array1.append(0)"
   ]
  },
  {
   "cell_type": "code",
   "execution_count": 13,
   "metadata": {},
   "outputs": [
    {
     "data": {
      "text/plain": [
       "array([[1, 1, 1, ..., 0, 0, 0],\n",
       "       [1, 1, 0, ..., 0, 0, 0],\n",
       "       [1, 0, 0, ..., 0, 0, 1],\n",
       "       ...,\n",
       "       [0, 0, 0, ..., 1, 1, 0],\n",
       "       [0, 0, 1, ..., 1, 0, 1],\n",
       "       [0, 1, 0, ..., 0, 1, 1]], shape=(1081, 120))"
      ]
     },
     "execution_count": 13,
     "metadata": {},
     "output_type": "execute_result"
    }
   ],
   "source": [
    "matriz_zeroum = matriz(120,array1)\n",
    "matriz_zeroum"
   ]
  },
  {
   "cell_type": "code",
   "execution_count": 14,
   "metadata": {},
   "outputs": [
    {
     "name": "stdout",
     "output_type": "stream",
     "text": [
      "True\n",
      "False\n"
     ]
    }
   ],
   "source": [
    "import numpy as np\n",
    "from collections import Counter\n",
    "import math\n",
    "\n",
    "def calcular_entropia(array):\n",
    "    # Conta a frequência de cada elemento no array\n",
    "    contador = Counter(array)\n",
    "    total_elementos = len(array)\n",
    "    \n",
    "    # Calcula a entropia\n",
    "    entropia = 0.0\n",
    "    for count in contador.values():\n",
    "        probabilidade = count / total_elementos\n",
    "        if probabilidade > 0:  # Evita log(0)\n",
    "            entropia -= probabilidade * math.log2(probabilidade)\n",
    "    \n",
    "    return entropia\n",
    "\n",
    "def eh_sequencia_aleatoria_binaria(array, limiar=0.9):\n",
    "    # Verifica se o array contém apenas 0s e 1s\n",
    "    if not all(x in {0, 1} for x in array):\n",
    "        raise ValueError(\"O array deve conter apenas 0s e 1s.\")\n",
    "    \n",
    "    # Calcula a entropia do array\n",
    "    entropia = calcular_entropia(array)\n",
    "    \n",
    "    # Para um array binário, a entropia máxima é 1\n",
    "    entropia_maxima = 1.0\n",
    "    \n",
    "    # Normaliza a entropia (neste caso, a entropia já está normalizada)\n",
    "    entropia_normalizada = entropia / entropia_maxima\n",
    "    \n",
    "    # Determina se a entropia normalizada está acima do limiar\n",
    "    return entropia_normalizada >= limiar\n",
    "\n",
    "# Exemplo de uso\n",
    "array_aleatorio = [0, 1, 0, 1, 0, 1, 0, 1, 0, 1]\n",
    "print(eh_sequencia_aleatoria_binaria(array_aleatorio))  # Deve retornar True\n",
    "\n",
    "array_nao_aleatorio = [0, 0, 0, 0, 0, 0, 0, 0, 0, 0]\n",
    "print(eh_sequencia_aleatoria_binaria(array_nao_aleatorio))  # Deve retornar False"
   ]
  },
  {
   "cell_type": "code",
   "execution_count": 15,
   "metadata": {},
   "outputs": [
    {
     "name": "stdout",
     "output_type": "stream",
     "text": [
      "False 439\n",
      "False 440\n",
      "False 441\n",
      "False 468\n",
      "False 469\n",
      "False 592\n",
      "False 593\n",
      "False 837\n",
      "False 850\n",
      "False 851\n",
      "False 852\n",
      "False 853\n",
      "False 854\n",
      "False 855\n",
      "False 856\n",
      "False 857\n",
      "False 858\n",
      "False 859\n",
      "False 860\n",
      "False 861\n",
      "False 862\n",
      "False 863\n",
      "False 864\n",
      "False 865\n",
      "False 866\n",
      "False 867\n",
      "False 868\n",
      "False 869\n",
      "False 870\n",
      "False 871\n",
      "False 872\n",
      "False 873\n",
      "False 874\n",
      "False 875\n",
      "False 876\n",
      "False 877\n",
      "False 878\n",
      "False 879\n",
      "False 880\n",
      "False 881\n",
      "False 882\n",
      "False 883\n",
      "False 884\n",
      "False 885\n",
      "False 886\n",
      "False 887\n",
      "False 888\n",
      "False 889\n",
      "False 890\n",
      "False 891\n",
      "False 892\n",
      "False 893\n",
      "False 894\n",
      "False 895\n",
      "False 896\n",
      "False 897\n",
      "False 898\n",
      "False 899\n",
      "False 900\n",
      "False 901\n",
      "False 902\n",
      "False 903\n",
      "False 904\n",
      "False 905\n",
      "False 906\n",
      "False 907\n",
      "False 908\n",
      "False 909\n",
      "False 910\n",
      "False 911\n",
      "False 912\n",
      "False 913\n",
      "False 914\n",
      "False 915\n",
      "False 916\n",
      "False 917\n",
      "False 918\n",
      "False 919\n",
      "False 920\n",
      "False 921\n",
      "False 922\n",
      "False 923\n",
      "False 924\n",
      "False 925\n",
      "False 926\n",
      "False 927\n",
      "False 928\n",
      "False 929\n",
      "False 930\n",
      "False 931\n",
      "False 932\n",
      "False 933\n",
      "False 934\n",
      "False 935\n",
      "False 936\n",
      "False 937\n",
      "False 938\n",
      "False 939\n",
      "False 940\n",
      "False 941\n",
      "False 942\n",
      "False 943\n",
      "False 944\n",
      "False 945\n",
      "False 946\n",
      "False 947\n",
      "False 948\n",
      "False 949\n",
      "False 950\n",
      "False 951\n",
      "False 952\n",
      "False 953\n",
      "False 954\n",
      "False 955\n",
      "False 956\n",
      "False 957\n",
      "False 958\n",
      "False 959\n",
      "False 960\n",
      "False 961\n",
      "False 962\n",
      "False 963\n",
      "False 964\n",
      "False 965\n",
      "False 966\n",
      "False 967\n",
      "False 968\n",
      "False 969\n",
      "False 970\n",
      "False 971\n",
      "False 972\n",
      "False 973\n",
      "False 974\n",
      "False 975\n",
      "False 976\n",
      "False 977\n",
      "False 979\n",
      "False 980\n",
      "False 981\n",
      "False 1048\n",
      "False 1049\n",
      "False 1050\n",
      "False 1051\n",
      "False 1052\n",
      "False 1053\n",
      "False 1054\n",
      "False 1055\n",
      "False 1056\n",
      "False 1057\n",
      "False 1058\n",
      "False 1059\n",
      "False 1060\n",
      "False 1061\n",
      "False 1074\n",
      "False 1075\n",
      "False 1076\n",
      "156\n"
     ]
    }
   ],
   "source": [
    "contador = 0\n",
    "    \n",
    "for i in range(0, matriz_zeroum.shape[0]):\n",
    "    condicao1 = eh_sequencia_aleatoria_binaria(matriz_zeroum[i,:])\n",
    "    if condicao1 is False:\n",
    "        contador += 1\n",
    "        print(eh_sequencia_aleatoria_binaria(matriz_zeroum[i,:]), i)\n",
    "print(contador)"
   ]
  }
 ],
 "metadata": {
  "kernelspec": {
   "display_name": "venv",
   "language": "python",
   "name": "python3"
  },
  "language_info": {
   "codemirror_mode": {
    "name": "ipython",
    "version": 3
   },
   "file_extension": ".py",
   "mimetype": "text/x-python",
   "name": "python",
   "nbconvert_exporter": "python",
   "pygments_lexer": "ipython3",
   "version": "3.12.3"
  }
 },
 "nbformat": 4,
 "nbformat_minor": 2
}
