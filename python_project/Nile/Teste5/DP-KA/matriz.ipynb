{
 "cells": [
  {
   "cell_type": "code",
   "execution_count": 4,
   "metadata": {},
   "outputs": [],
   "source": [
    "import pandas as pd\n",
    "import numpy as np"
   ]
  },
  {
   "cell_type": "code",
   "execution_count": 5,
   "metadata": {},
   "outputs": [],
   "source": [
    "def matriz(num_colunas, array1):\n",
    "    \"\"\"\n",
    "    Gera uma matriz sequencial a partir de um array, com o número de colunas especificado.\n",
    "\n",
    "    Args:\n",
    "        array (list ou np.ndarray): Array de entrada.\n",
    "        num_colunas (int): Número de colunas desejado na matriz.\n",
    "\n",
    "    Returns:\n",
    "        np.ndarray: Matriz sequencial.\n",
    "    \"\"\"\n",
    "    if num_colunas > len(array1):\n",
    "        raise ValueError(\"O número de colunas não pode ser maior que o tamanho do array.\")\n",
    "\n",
    "    # Número de linhas na matriz\n",
    "    num_linhas = len(array1) - num_colunas + 1\n",
    "\n",
    "    # Criando a matriz sequencial\n",
    "    matriz = np.array([array1[i:i + num_colunas] for i in range(num_linhas)])\n",
    "    return matriz"
   ]
  },
  {
   "cell_type": "code",
   "execution_count": 6,
   "metadata": {},
   "outputs": [
    {
     "data": {
      "text/plain": [
       "array([  0,   1,   2,   3,   4,   5,   6,   7,   8,   9,  10,  11,  12,\n",
       "        13,  14,  15,  16,  17,  18,  19,  20,  21,  22,  23,  24,  25,\n",
       "        26,  27,  28,  29,  30,  31,  32,  33,  34,  35,  36,  37,  38,\n",
       "        39,  40,  41,  42,  43,  44,  45,  46,  47,  48,  49,  50,  51,\n",
       "        52,  53,  54,  55,  56,  57,  58,  59,  60,  61,  62,  63,  64,\n",
       "        65,  66,  67,  68,  69,  70,  71,  72,  73,  74,  75,  76,  77,\n",
       "        78,  79,  80,  81,  82,  83,  84,  85,  86,  87,  88,  89,  90,\n",
       "        91,  92,  93,  94,  95,  96,  97,  98,  99, 100, 101, 102, 103,\n",
       "       104, 105, 106, 107, 108, 109, 110, 111, 112, 113, 114, 115, 116,\n",
       "       117, 118, 119, 120, 121, 122, 123, 124, 125, 126, 127, 128, 129,\n",
       "       130, 131, 132, 133, 134, 135, 136, 137, 138, 139, 140, 141, 142,\n",
       "       143, 144, 145, 146, 147, 148, 149, 150, 151, 152, 153, 154, 155,\n",
       "       156, 157, 158, 159, 160, 161, 162, 163, 164, 165, 166, 167, 168,\n",
       "       169, 170, 171, 172, 173, 174, 175, 176, 177, 178, 179, 180, 181,\n",
       "       182, 183, 184, 185, 186, 187, 188, 189, 190, 191, 192, 193, 194,\n",
       "       195, 196, 197, 198, 199, 200, 201, 202, 203, 204, 205, 206, 207,\n",
       "       208, 209, 210, 211, 212, 213, 214, 215, 216, 217, 218, 219, 220,\n",
       "       221, 222, 223, 224, 225, 226, 227, 228, 229, 230, 231, 232, 233,\n",
       "       234, 235, 236, 237, 238, 239, 240, 241, 242, 243, 244, 245, 246,\n",
       "       247, 248, 249, 250, 251, 252, 253, 254, 255, 256, 257, 258, 259,\n",
       "       260, 261, 262, 263, 264, 265, 266, 267, 268, 269, 270, 271, 272,\n",
       "       273, 274, 275, 276, 277, 278, 279, 280, 281, 282, 283, 284, 285,\n",
       "       286, 287, 288, 289, 290, 291, 292, 293, 294, 295, 296, 297, 298,\n",
       "       299])"
      ]
     },
     "execution_count": 6,
     "metadata": {},
     "output_type": "execute_result"
    }
   ],
   "source": [
    "array = np.arange(300)\n",
    "\n",
    "array"
   ]
  },
  {
   "cell_type": "code",
   "execution_count": 7,
   "metadata": {},
   "outputs": [
    {
     "data": {
      "text/plain": [
       "array([[  0,   1,   2, ...,  27,  28,  29],\n",
       "       [  1,   2,   3, ...,  28,  29,  30],\n",
       "       [  2,   3,   4, ...,  29,  30,  31],\n",
       "       ...,\n",
       "       [268, 269, 270, ..., 295, 296, 297],\n",
       "       [269, 270, 271, ..., 296, 297, 298],\n",
       "       [270, 271, 272, ..., 297, 298, 299]])"
      ]
     },
     "execution_count": 7,
     "metadata": {},
     "output_type": "execute_result"
    }
   ],
   "source": [
    "matriz1 = matriz(30,array)\n",
    "matriz1"
   ]
  },
  {
   "cell_type": "code",
   "execution_count": 12,
   "metadata": {},
   "outputs": [
    {
     "ename": "ValueError",
     "evalue": "all the input array dimensions except for the concatenation axis must match exactly, but along dimension 0, the array at index 0 has size 271 and the array at index 1 has size 267",
     "output_type": "error",
     "traceback": [
      "\u001b[0;31m---------------------------------------------------------------------------\u001b[0m",
      "\u001b[0;31mValueError\u001b[0m                                Traceback (most recent call last)",
      "Cell \u001b[0;32mIn[12], line 12\u001b[0m\n\u001b[1;32m      9\u001b[0m X_media \u001b[38;5;241m=\u001b[39m matriz(\u001b[38;5;241m30\u001b[39m, media)[:, :\u001b[38;5;241m-\u001b[39m\u001b[38;5;241m1\u001b[39m]  \u001b[38;5;66;03m# Ajustando para o mesmo formato\u001b[39;00m\n\u001b[1;32m     11\u001b[0m \u001b[38;5;66;03m# Concatenar as duas matrizes como uma única entrada\u001b[39;00m\n\u001b[0;32m---> 12\u001b[0m X_combinado \u001b[38;5;241m=\u001b[39m \u001b[43mnp\u001b[49m\u001b[38;5;241;43m.\u001b[39;49m\u001b[43mhstack\u001b[49m\u001b[43m(\u001b[49m\u001b[43m[\u001b[49m\u001b[43mX_original\u001b[49m\u001b[43m,\u001b[49m\u001b[43m \u001b[49m\u001b[43mX_media\u001b[49m\u001b[43m]\u001b[49m\u001b[43m)\u001b[49m\n\u001b[1;32m     13\u001b[0m y \u001b[38;5;241m=\u001b[39m matriz(\u001b[38;5;241m30\u001b[39m, array)[:, \u001b[38;5;241m-\u001b[39m\u001b[38;5;241m1\u001b[39m]  \u001b[38;5;66;03m# Última coluna como saída\u001b[39;00m\n",
      "File \u001b[0;32m~/Documentos/Out/venv/lib/python3.12/site-packages/numpy/_core/shape_base.py:358\u001b[0m, in \u001b[0;36mhstack\u001b[0;34m(tup, dtype, casting)\u001b[0m\n\u001b[1;32m    356\u001b[0m     \u001b[38;5;28;01mreturn\u001b[39;00m _nx\u001b[38;5;241m.\u001b[39mconcatenate(arrs, \u001b[38;5;241m0\u001b[39m, dtype\u001b[38;5;241m=\u001b[39mdtype, casting\u001b[38;5;241m=\u001b[39mcasting)\n\u001b[1;32m    357\u001b[0m \u001b[38;5;28;01melse\u001b[39;00m:\n\u001b[0;32m--> 358\u001b[0m     \u001b[38;5;28;01mreturn\u001b[39;00m \u001b[43m_nx\u001b[49m\u001b[38;5;241;43m.\u001b[39;49m\u001b[43mconcatenate\u001b[49m\u001b[43m(\u001b[49m\u001b[43marrs\u001b[49m\u001b[43m,\u001b[49m\u001b[43m \u001b[49m\u001b[38;5;241;43m1\u001b[39;49m\u001b[43m,\u001b[49m\u001b[43m \u001b[49m\u001b[43mdtype\u001b[49m\u001b[38;5;241;43m=\u001b[39;49m\u001b[43mdtype\u001b[49m\u001b[43m,\u001b[49m\u001b[43m \u001b[49m\u001b[43mcasting\u001b[49m\u001b[38;5;241;43m=\u001b[39;49m\u001b[43mcasting\u001b[49m\u001b[43m)\u001b[49m\n",
      "\u001b[0;31mValueError\u001b[0m: all the input array dimensions except for the concatenation axis must match exactly, but along dimension 0, the array at index 0 has size 271 and the array at index 1 has size 267"
     ]
    }
   ],
   "source": [
    "def media_movel(array, janela):\n",
    "    return np.convolve(array, np.ones(janela)/janela, mode='valid')\n",
    "\n",
    "# Gerar a matriz original\n",
    "X_original = matriz(30, array)[:, :-1]  # Pegamos as primeiras 29 colunas\n",
    "\n",
    "# Criar a matriz de médias móveis\n",
    "media = media_movel(array, janela=5)  # Exemplo: média de 5 períodos\n",
    "X_media = matriz(30, media)[:, :-1]  # Ajustando para o mesmo formato\n",
    "\n",
    "# Concatenar as duas matrizes como uma única entrada\n",
    "X_combinado = np.hstack([X_original, X_media])\n",
    "y = matriz(30, array)[:, -1]  # Última coluna como saída\n"
   ]
  },
  {
   "cell_type": "code",
   "execution_count": 11,
   "metadata": {},
   "outputs": [
    {
     "ename": "ValueError",
     "evalue": "Data cardinality is ambiguous. Make sure all arrays contain the same number of samples.'x' sizes: 271, 267\n'y' sizes: 271\n",
     "output_type": "error",
     "traceback": [
      "\u001b[0;31m---------------------------------------------------------------------------\u001b[0m",
      "\u001b[0;31mValueError\u001b[0m                                Traceback (most recent call last)",
      "Cell \u001b[0;32mIn[11], line 21\u001b[0m\n\u001b[1;32m     18\u001b[0m modelo\u001b[38;5;241m.\u001b[39mcompile(optimizer\u001b[38;5;241m=\u001b[39m\u001b[38;5;124m\"\u001b[39m\u001b[38;5;124madam\u001b[39m\u001b[38;5;124m\"\u001b[39m, loss\u001b[38;5;241m=\u001b[39m\u001b[38;5;124m\"\u001b[39m\u001b[38;5;124mmse\u001b[39m\u001b[38;5;124m\"\u001b[39m)\n\u001b[1;32m     20\u001b[0m \u001b[38;5;66;03m# Treinar o modelo\u001b[39;00m\n\u001b[0;32m---> 21\u001b[0m \u001b[43mmodelo\u001b[49m\u001b[38;5;241;43m.\u001b[39;49m\u001b[43mfit\u001b[49m\u001b[43m(\u001b[49m\u001b[43m[\u001b[49m\u001b[43mX_original\u001b[49m\u001b[43m,\u001b[49m\u001b[43m \u001b[49m\u001b[43mX_media\u001b[49m\u001b[43m]\u001b[49m\u001b[43m,\u001b[49m\u001b[43m \u001b[49m\u001b[43my\u001b[49m\u001b[43m,\u001b[49m\u001b[43m \u001b[49m\u001b[43mepochs\u001b[49m\u001b[38;5;241;43m=\u001b[39;49m\u001b[38;5;241;43m50\u001b[39;49m\u001b[43m,\u001b[49m\u001b[43m \u001b[49m\u001b[43mbatch_size\u001b[49m\u001b[38;5;241;43m=\u001b[39;49m\u001b[38;5;241;43m32\u001b[39;49m\u001b[43m)\u001b[49m\n",
      "File \u001b[0;32m~/Documentos/Out/venv/lib/python3.12/site-packages/keras/src/utils/traceback_utils.py:122\u001b[0m, in \u001b[0;36mfilter_traceback.<locals>.error_handler\u001b[0;34m(*args, **kwargs)\u001b[0m\n\u001b[1;32m    119\u001b[0m     filtered_tb \u001b[38;5;241m=\u001b[39m _process_traceback_frames(e\u001b[38;5;241m.\u001b[39m__traceback__)\n\u001b[1;32m    120\u001b[0m     \u001b[38;5;66;03m# To get the full stack trace, call:\u001b[39;00m\n\u001b[1;32m    121\u001b[0m     \u001b[38;5;66;03m# `keras.config.disable_traceback_filtering()`\u001b[39;00m\n\u001b[0;32m--> 122\u001b[0m     \u001b[38;5;28;01mraise\u001b[39;00m e\u001b[38;5;241m.\u001b[39mwith_traceback(filtered_tb) \u001b[38;5;28;01mfrom\u001b[39;00m \u001b[38;5;28;01mNone\u001b[39;00m\n\u001b[1;32m    123\u001b[0m \u001b[38;5;28;01mfinally\u001b[39;00m:\n\u001b[1;32m    124\u001b[0m     \u001b[38;5;28;01mdel\u001b[39;00m filtered_tb\n",
      "File \u001b[0;32m~/Documentos/Out/venv/lib/python3.12/site-packages/keras/src/trainers/data_adapters/data_adapter_utils.py:114\u001b[0m, in \u001b[0;36mcheck_data_cardinality\u001b[0;34m(data)\u001b[0m\n\u001b[1;32m    110\u001b[0m     sizes \u001b[38;5;241m=\u001b[39m \u001b[38;5;124m\"\u001b[39m\u001b[38;5;124m, \u001b[39m\u001b[38;5;124m\"\u001b[39m\u001b[38;5;241m.\u001b[39mjoin(\n\u001b[1;32m    111\u001b[0m         \u001b[38;5;28mstr\u001b[39m(i\u001b[38;5;241m.\u001b[39mshape[\u001b[38;5;241m0\u001b[39m]) \u001b[38;5;28;01mfor\u001b[39;00m i \u001b[38;5;129;01min\u001b[39;00m tree\u001b[38;5;241m.\u001b[39mflatten(single_data)\n\u001b[1;32m    112\u001b[0m     )\n\u001b[1;32m    113\u001b[0m     msg \u001b[38;5;241m+\u001b[39m\u001b[38;5;241m=\u001b[39m \u001b[38;5;124mf\u001b[39m\u001b[38;5;124m\"\u001b[39m\u001b[38;5;124m'\u001b[39m\u001b[38;5;132;01m{\u001b[39;00mlabel\u001b[38;5;132;01m}\u001b[39;00m\u001b[38;5;124m'\u001b[39m\u001b[38;5;124m sizes: \u001b[39m\u001b[38;5;132;01m{\u001b[39;00msizes\u001b[38;5;132;01m}\u001b[39;00m\u001b[38;5;130;01m\\n\u001b[39;00m\u001b[38;5;124m\"\u001b[39m\n\u001b[0;32m--> 114\u001b[0m \u001b[38;5;28;01mraise\u001b[39;00m \u001b[38;5;167;01mValueError\u001b[39;00m(msg)\n",
      "\u001b[0;31mValueError\u001b[0m: Data cardinality is ambiguous. Make sure all arrays contain the same number of samples.'x' sizes: 271, 267\n'y' sizes: 271\n"
     ]
    }
   ],
   "source": [
    "from tensorflow.keras.models import Model\n",
    "from tensorflow.keras.layers import Input, Dense, Concatenate\n",
    "\n",
    "# Definir camadas de entrada\n",
    "input1 = Input(shape=(X_original.shape[1],))\n",
    "input2 = Input(shape=(X_media.shape[1],))\n",
    "\n",
    "# Criar caminhos separados para processar cada matriz\n",
    "x1 = Dense(64, activation=\"relu\")(input1)\n",
    "x2 = Dense(64, activation=\"relu\")(input2)\n",
    "\n",
    "# Concatenar os dois caminhos\n",
    "concat = Concatenate()([x1, x2])\n",
    "output = Dense(1, activation=\"linear\")(concat)\n",
    "\n",
    "# Criar o modelo com múltiplas entradas\n",
    "modelo = Model(inputs=[input1, input2], outputs=output)\n",
    "modelo.compile(optimizer=\"adam\", loss=\"mse\")\n",
    "\n",
    "# Treinar o modelo\n",
    "modelo.fit([X_original, X_media], y, epochs=50, batch_size=32)\n"
   ]
  },
  {
   "cell_type": "code",
   "execution_count": 13,
   "metadata": {},
   "outputs": [
    {
     "name": "stdout",
     "output_type": "stream",
     "text": [
      "Dimensões ajustadas:\n",
      "X_original: (267, 29)\n",
      "X_media: (267, 29)\n",
      "y: (267,)\n"
     ]
    }
   ],
   "source": [
    "def media_movel(array, janela):\n",
    "    return np.convolve(array, np.ones(janela)/janela, mode='valid')\n",
    "\n",
    "# Gerar a matriz original\n",
    "X_original = matriz(30, array)[:, :-1]  # Pegamos as primeiras 29 colunas\n",
    "\n",
    "# Criar a matriz de médias móveis\n",
    "media = media_movel(array, janela=5)  # Média móvel de janela 5\n",
    "X_media = matriz(30, media)[:, :-1]   # Ajustando para mesmo formato\n",
    "\n",
    "# Ajustar as dimensões para garantir que todas tenham o mesmo número de linhas\n",
    "min_linhas = min(X_original.shape[0], X_media.shape[0])\n",
    "X_original = X_original[:min_linhas]\n",
    "X_media = X_media[:min_linhas]\n",
    "y = matriz(30, array)[:, -1][:min_linhas]  # Ajustar saída\n",
    "\n",
    "# Concatenar para um único modelo (se necessário)\n",
    "X_combinado = np.hstack([X_original, X_media])\n",
    "\n",
    "print(\"Dimensões ajustadas:\")\n",
    "print(\"X_original:\", X_original.shape)\n",
    "print(\"X_media:\", X_media.shape)\n",
    "print(\"y:\", y.shape)\n"
   ]
  },
  {
   "cell_type": "code",
   "execution_count": 14,
   "metadata": {},
   "outputs": [
    {
     "data": {
      "text/plain": [
       "array([[  0,   1,   2, ...,  26,  27,  28],\n",
       "       [  1,   2,   3, ...,  27,  28,  29],\n",
       "       [  2,   3,   4, ...,  28,  29,  30],\n",
       "       ...,\n",
       "       [264, 265, 266, ..., 290, 291, 292],\n",
       "       [265, 266, 267, ..., 291, 292, 293],\n",
       "       [266, 267, 268, ..., 292, 293, 294]])"
      ]
     },
     "execution_count": 14,
     "metadata": {},
     "output_type": "execute_result"
    }
   ],
   "source": [
    "X_original"
   ]
  },
  {
   "cell_type": "code",
   "execution_count": 15,
   "metadata": {},
   "outputs": [
    {
     "data": {
      "text/plain": [
       "array([[  2.,   3.,   4., ...,  28.,  29.,  30.],\n",
       "       [  3.,   4.,   5., ...,  29.,  30.,  31.],\n",
       "       [  4.,   5.,   6., ...,  30.,  31.,  32.],\n",
       "       ...,\n",
       "       [266., 267., 268., ..., 292., 293., 294.],\n",
       "       [267., 268., 269., ..., 293., 294., 295.],\n",
       "       [268., 269., 270., ..., 294., 295., 296.]])"
      ]
     },
     "execution_count": 15,
     "metadata": {},
     "output_type": "execute_result"
    }
   ],
   "source": [
    "X_media"
   ]
  }
 ],
 "metadata": {
  "kernelspec": {
   "display_name": "venv",
   "language": "python",
   "name": "python3"
  },
  "language_info": {
   "codemirror_mode": {
    "name": "ipython",
    "version": 3
   },
   "file_extension": ".py",
   "mimetype": "text/x-python",
   "name": "python",
   "nbconvert_exporter": "python",
   "pygments_lexer": "ipython3",
   "version": "3.12.3"
  }
 },
 "nbformat": 4,
 "nbformat_minor": 2
}
