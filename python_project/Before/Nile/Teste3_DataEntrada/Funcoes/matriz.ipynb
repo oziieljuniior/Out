{
 "cells": [
  {
   "cell_type": "markdown",
   "metadata": {},
   "source": [
    "# Funções Utilizadas em Nile\n",
    "\n",
    "Aqui devemos organizar um manual das funções utilizadas. Inicialmente, devemos pontuar, dados estudos iniciais(2 ~ 3 anos) historicamente podemos evoluir o modelo para predição de números acima de mil.\n",
    "\n",
    "Ou seja, um trabalho de formiga ...\n",
    "\n",
    "## Ao leitores\n",
    "\n",
    "Procure os históricos dos commits, pondemos organizar esse projeto desde o inicio. \n",
    "\n",
    "Sujeito a Copy Right."
   ]
  },
  {
   "cell_type": "code",
   "execution_count": 2,
   "metadata": {},
   "outputs": [],
   "source": [
    "import numpy as np"
   ]
  },
  {
   "cell_type": "code",
   "execution_count": 16,
   "metadata": {},
   "outputs": [],
   "source": [
    "def matriz_divisora(num_linhas, array):\n",
    "    \"\"\"\n",
    "    Transforma um array unidimensional em uma matriz organizada por colunas.\n",
    "    \n",
    "    Args:\n",
    "        array (list ou np.array): Lista de números a serem organizados.\n",
    "        num_linhas (int): Número de linhas desejadas na matriz.\n",
    "\n",
    "    Returns:\n",
    "        np.array: Matriz ordenada.\n",
    "    \"\"\"\n",
    "    \n",
    "    # Reshape para matriz (por linha) e depois transpõe para organizar por colunas\n",
    "    matriz = np.array(array).reshape(-1, num_linhas).T\n",
    "    \n",
    "    return matriz # Retorna como lista para melhor legibilidade"
   ]
  },
  {
   "cell_type": "code",
   "execution_count": 17,
   "metadata": {},
   "outputs": [],
   "source": [
    "array = np.arange(300)\n",
    "\n",
    "matriz_teste = matriz_divisora(60,array)"
   ]
  },
  {
   "cell_type": "code",
   "execution_count": 18,
   "metadata": {},
   "outputs": [
    {
     "data": {
      "text/plain": [
       "array([[  0,  60, 120, 180, 240],\n",
       "       [  1,  61, 121, 181, 241],\n",
       "       [  2,  62, 122, 182, 242],\n",
       "       [  3,  63, 123, 183, 243],\n",
       "       [  4,  64, 124, 184, 244],\n",
       "       [  5,  65, 125, 185, 245],\n",
       "       [  6,  66, 126, 186, 246],\n",
       "       [  7,  67, 127, 187, 247],\n",
       "       [  8,  68, 128, 188, 248],\n",
       "       [  9,  69, 129, 189, 249],\n",
       "       [ 10,  70, 130, 190, 250],\n",
       "       [ 11,  71, 131, 191, 251],\n",
       "       [ 12,  72, 132, 192, 252],\n",
       "       [ 13,  73, 133, 193, 253],\n",
       "       [ 14,  74, 134, 194, 254],\n",
       "       [ 15,  75, 135, 195, 255],\n",
       "       [ 16,  76, 136, 196, 256],\n",
       "       [ 17,  77, 137, 197, 257],\n",
       "       [ 18,  78, 138, 198, 258],\n",
       "       [ 19,  79, 139, 199, 259],\n",
       "       [ 20,  80, 140, 200, 260],\n",
       "       [ 21,  81, 141, 201, 261],\n",
       "       [ 22,  82, 142, 202, 262],\n",
       "       [ 23,  83, 143, 203, 263],\n",
       "       [ 24,  84, 144, 204, 264],\n",
       "       [ 25,  85, 145, 205, 265],\n",
       "       [ 26,  86, 146, 206, 266],\n",
       "       [ 27,  87, 147, 207, 267],\n",
       "       [ 28,  88, 148, 208, 268],\n",
       "       [ 29,  89, 149, 209, 269],\n",
       "       [ 30,  90, 150, 210, 270],\n",
       "       [ 31,  91, 151, 211, 271],\n",
       "       [ 32,  92, 152, 212, 272],\n",
       "       [ 33,  93, 153, 213, 273],\n",
       "       [ 34,  94, 154, 214, 274],\n",
       "       [ 35,  95, 155, 215, 275],\n",
       "       [ 36,  96, 156, 216, 276],\n",
       "       [ 37,  97, 157, 217, 277],\n",
       "       [ 38,  98, 158, 218, 278],\n",
       "       [ 39,  99, 159, 219, 279],\n",
       "       [ 40, 100, 160, 220, 280],\n",
       "       [ 41, 101, 161, 221, 281],\n",
       "       [ 42, 102, 162, 222, 282],\n",
       "       [ 43, 103, 163, 223, 283],\n",
       "       [ 44, 104, 164, 224, 284],\n",
       "       [ 45, 105, 165, 225, 285],\n",
       "       [ 46, 106, 166, 226, 286],\n",
       "       [ 47, 107, 167, 227, 287],\n",
       "       [ 48, 108, 168, 228, 288],\n",
       "       [ 49, 109, 169, 229, 289],\n",
       "       [ 50, 110, 170, 230, 290],\n",
       "       [ 51, 111, 171, 231, 291],\n",
       "       [ 52, 112, 172, 232, 292],\n",
       "       [ 53, 113, 173, 233, 293],\n",
       "       [ 54, 114, 174, 234, 294],\n",
       "       [ 55, 115, 175, 235, 295],\n",
       "       [ 56, 116, 176, 236, 296],\n",
       "       [ 57, 117, 177, 237, 297],\n",
       "       [ 58, 118, 178, 238, 298],\n",
       "       [ 59, 119, 179, 239, 299]])"
      ]
     },
     "execution_count": 18,
     "metadata": {},
     "output_type": "execute_result"
    }
   ],
   "source": [
    "matriz_teste"
   ]
  },
  {
   "cell_type": "code",
   "execution_count": 19,
   "metadata": {},
   "outputs": [
    {
     "data": {
      "text/plain": [
       "(60, 5)"
      ]
     },
     "execution_count": 19,
     "metadata": {},
     "output_type": "execute_result"
    }
   ],
   "source": [
    "matriz_teste.shape"
   ]
  },
  {
   "cell_type": "code",
   "execution_count": 20,
   "metadata": {},
   "outputs": [],
   "source": [
    "def matriz_historica(qt_colunas, array):\n",
    "    \"\"\"\n",
    "    Gera uma matriz sequencial a partir de um array, com o número de colunas especificado.\n",
    "\n",
    "    Args:\n",
    "        array (list ou np.ndarray): Array de entrada.\n",
    "        qt_colunas (int): Número de colunas desejado na matriz.\n",
    "\n",
    "    Returns:\n",
    "        np.ndarray: Matriz sequencial.\n",
    "    \"\"\"\n",
    "    if qt_colunas > len(array):\n",
    "        raise ValueError(\"O número de colunas não pode ser maior que o tamanho do array.\")\n",
    "\n",
    "    # Número de linhas na matriz\n",
    "    num_linhas = len(array) - qt_colunas + 1\n",
    "\n",
    "    # Criando a matriz sequencial\n",
    "    matriz = np.array([array[i:i + qt_colunas] for i in range(num_linhas)])\n",
    "    return matriz\n"
   ]
  },
  {
   "cell_type": "code",
   "execution_count": 21,
   "metadata": {},
   "outputs": [],
   "source": [
    "array = np.arange(300)\n",
    "\n",
    "matriz_teste = matriz_historica(240,array)"
   ]
  },
  {
   "cell_type": "code",
   "execution_count": 22,
   "metadata": {},
   "outputs": [
    {
     "data": {
      "text/plain": [
       "array([[  0,   1,   2, ..., 237, 238, 239],\n",
       "       [  1,   2,   3, ..., 238, 239, 240],\n",
       "       [  2,   3,   4, ..., 239, 240, 241],\n",
       "       ...,\n",
       "       [ 58,  59,  60, ..., 295, 296, 297],\n",
       "       [ 59,  60,  61, ..., 296, 297, 298],\n",
       "       [ 60,  61,  62, ..., 297, 298, 299]])"
      ]
     },
     "execution_count": 22,
     "metadata": {},
     "output_type": "execute_result"
    }
   ],
   "source": [
    "matriz_teste"
   ]
  },
  {
   "cell_type": "code",
   "execution_count": 23,
   "metadata": {},
   "outputs": [
    {
     "data": {
      "text/plain": [
       "(61, 240)"
      ]
     },
     "execution_count": 23,
     "metadata": {},
     "output_type": "execute_result"
    }
   ],
   "source": [
    "matriz_teste.shape"
   ]
  },
  {
   "cell_type": "code",
   "execution_count": 24,
   "metadata": {},
   "outputs": [],
   "source": [
    "def media_historica(array):\n",
    "    \"\"\"\n",
    "    Função que organiza o histórico das médias das últimas 60 entradas.\n",
    "    Args:\n",
    "        array (list ou np.ndarray): Array de entrada.\n",
    "    Returns:\n",
    "        np.ndarray: Array das médias sequenciais.\n",
    "    \"\"\"\n",
    "    array = np.asarray(array)  # Garante que a entrada seja um np.ndarray\n",
    "    if len(array) < 60:\n",
    "        raise ValueError(\"O array deve ter pelo menos 60 elementos para calcular a média histórica.\")\n",
    "    \n",
    "    # Calcula a média móvel com janela de 60\n",
    "    medias = np.convolve(array, np.ones(60) / 60, mode='valid')\n",
    "    \n",
    "    return medias"
   ]
  },
  {
   "cell_type": "code",
   "execution_count": 25,
   "metadata": {},
   "outputs": [],
   "source": [
    "array = np.arange(300)\n",
    "\n",
    "array_teste = media_historica(array)"
   ]
  },
  {
   "cell_type": "code",
   "execution_count": 26,
   "metadata": {},
   "outputs": [
    {
     "data": {
      "text/plain": [
       "array([ 29.5,  30.5,  31.5,  32.5,  33.5,  34.5,  35.5,  36.5,  37.5,\n",
       "        38.5,  39.5,  40.5,  41.5,  42.5,  43.5,  44.5,  45.5,  46.5,\n",
       "        47.5,  48.5,  49.5,  50.5,  51.5,  52.5,  53.5,  54.5,  55.5,\n",
       "        56.5,  57.5,  58.5,  59.5,  60.5,  61.5,  62.5,  63.5,  64.5,\n",
       "        65.5,  66.5,  67.5,  68.5,  69.5,  70.5,  71.5,  72.5,  73.5,\n",
       "        74.5,  75.5,  76.5,  77.5,  78.5,  79.5,  80.5,  81.5,  82.5,\n",
       "        83.5,  84.5,  85.5,  86.5,  87.5,  88.5,  89.5,  90.5,  91.5,\n",
       "        92.5,  93.5,  94.5,  95.5,  96.5,  97.5,  98.5,  99.5, 100.5,\n",
       "       101.5, 102.5, 103.5, 104.5, 105.5, 106.5, 107.5, 108.5, 109.5,\n",
       "       110.5, 111.5, 112.5, 113.5, 114.5, 115.5, 116.5, 117.5, 118.5,\n",
       "       119.5, 120.5, 121.5, 122.5, 123.5, 124.5, 125.5, 126.5, 127.5,\n",
       "       128.5, 129.5, 130.5, 131.5, 132.5, 133.5, 134.5, 135.5, 136.5,\n",
       "       137.5, 138.5, 139.5, 140.5, 141.5, 142.5, 143.5, 144.5, 145.5,\n",
       "       146.5, 147.5, 148.5, 149.5, 150.5, 151.5, 152.5, 153.5, 154.5,\n",
       "       155.5, 156.5, 157.5, 158.5, 159.5, 160.5, 161.5, 162.5, 163.5,\n",
       "       164.5, 165.5, 166.5, 167.5, 168.5, 169.5, 170.5, 171.5, 172.5,\n",
       "       173.5, 174.5, 175.5, 176.5, 177.5, 178.5, 179.5, 180.5, 181.5,\n",
       "       182.5, 183.5, 184.5, 185.5, 186.5, 187.5, 188.5, 189.5, 190.5,\n",
       "       191.5, 192.5, 193.5, 194.5, 195.5, 196.5, 197.5, 198.5, 199.5,\n",
       "       200.5, 201.5, 202.5, 203.5, 204.5, 205.5, 206.5, 207.5, 208.5,\n",
       "       209.5, 210.5, 211.5, 212.5, 213.5, 214.5, 215.5, 216.5, 217.5,\n",
       "       218.5, 219.5, 220.5, 221.5, 222.5, 223.5, 224.5, 225.5, 226.5,\n",
       "       227.5, 228.5, 229.5, 230.5, 231.5, 232.5, 233.5, 234.5, 235.5,\n",
       "       236.5, 237.5, 238.5, 239.5, 240.5, 241.5, 242.5, 243.5, 244.5,\n",
       "       245.5, 246.5, 247.5, 248.5, 249.5, 250.5, 251.5, 252.5, 253.5,\n",
       "       254.5, 255.5, 256.5, 257.5, 258.5, 259.5, 260.5, 261.5, 262.5,\n",
       "       263.5, 264.5, 265.5, 266.5, 267.5, 268.5, 269.5])"
      ]
     },
     "execution_count": 26,
     "metadata": {},
     "output_type": "execute_result"
    }
   ],
   "source": [
    "array_teste"
   ]
  },
  {
   "cell_type": "code",
   "execution_count": 27,
   "metadata": {},
   "outputs": [
    {
     "data": {
      "text/plain": [
       "(241,)"
      ]
     },
     "execution_count": 27,
     "metadata": {},
     "output_type": "execute_result"
    }
   ],
   "source": [
    "array_teste.shape"
   ]
  },
  {
   "cell_type": "code",
   "execution_count": 28,
   "metadata": {},
   "outputs": [
    {
     "name": "stdout",
     "output_type": "stream",
     "text": [
      "[[ 5  6  7]\n",
      " [ 8  9 10]\n",
      " [ 0  0  0]]\n"
     ]
    }
   ],
   "source": [
    "import numpy as np\n",
    "\n",
    "def resize_and_merge_matrices(matrix1, matrix2, fill_value=0):\n",
    "    \"\"\"\n",
    "    Redimensiona e combina duas matrizes em uma única matriz quadrada convexa.\n",
    "    \n",
    "    Parâmetros:\n",
    "        matrix1 (np.array): Primeira matriz.\n",
    "        matrix2 (np.array): Segunda matriz.\n",
    "        fill_value (float, opcional): Valor para preenchimento ao redimensionar. Padrão é 0.\n",
    "    \n",
    "    Retorna:\n",
    "        np.array: Matriz quadrada convexa combinada.\n",
    "    \"\"\"\n",
    "    # Determinar os tamanhos máximos das matrizes\n",
    "    max_rows = max(matrix1.shape[0], matrix2.shape[0])\n",
    "    max_cols = max(matrix1.shape[1], matrix2.shape[1])\n",
    "    \n",
    "    # Definir o tamanho mínimo necessário para tornar a matriz quadrada\n",
    "    square_size = max(max_rows, max_cols)\n",
    "    \n",
    "    # Função para redimensionar uma matriz para um tamanho quadrado\n",
    "    def resize_matrix(matrix, size, fill_value):\n",
    "        resized = np.full((size, size), fill_value, dtype=matrix.dtype)\n",
    "        resized[:matrix.shape[0], :matrix.shape[1]] = matrix  # Mantém os valores originais no canto superior esquerdo\n",
    "        return resized\n",
    "    \n",
    "    # Redimensionar as duas matrizes\n",
    "    resized_matrix1 = resize_matrix(matrix1, square_size, fill_value)\n",
    "    resized_matrix2 = resize_matrix(matrix2, square_size, fill_value)\n",
    "    \n",
    "    # Criar a matriz convexa combinando as duas\n",
    "    combined_matrix = np.maximum(resized_matrix1, resized_matrix2)\n",
    "    \n",
    "    return combined_matrix\n",
    "\n",
    "# Exemplo de uso\n",
    "mat1 = np.array([[1, 2], [3, 4]])\n",
    "mat2 = np.array([[5, 6, 7], [8, 9, 10]])\n",
    "\n",
    "result = resize_and_merge_matrices(mat1, mat2)\n",
    "print(result)\n"
   ]
  },
  {
   "cell_type": "code",
   "execution_count": null,
   "metadata": {},
   "outputs": [],
   "source": [
    "global_saved_arrays = []  # Lista global para armazenar os arrays\n",
    "\n",
    "def save_merged_array(X):\n",
    "    \"\"\"\n",
    "    Salva a matriz X em um array global.\n",
    "    \"\"\"\n",
    "    global global_saved_arrays\n",
    "    global_saved_arrays.append(X)\n",
    "    print(\"Matriz salva com sucesso! Total de matrizes armazenadas:\", len(global_saved_arrays))\n",
    "    \n",
    "# Exemplo de uso:\n",
    "# X = resize_and_merge_matrices(array2, array3)\n",
    "# save_merged_array(X)"
   ]
  }
 ],
 "metadata": {
  "kernelspec": {
   "display_name": "venv",
   "language": "python",
   "name": "python3"
  },
  "language_info": {
   "codemirror_mode": {
    "name": "ipython",
    "version": 3
   },
   "file_extension": ".py",
   "mimetype": "text/x-python",
   "name": "python",
   "nbconvert_exporter": "python",
   "pygments_lexer": "ipython3",
   "version": "3.12.3"
  }
 },
 "nbformat": 4,
 "nbformat_minor": 2
}
