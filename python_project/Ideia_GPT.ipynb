{
 "cells": [
  {
   "cell_type": "markdown",
   "id": "68e9c3c9",
   "metadata": {},
   "source": [
    "# Implementação com banco de dados\n",
    "\n",
    "A seguir, devo puxar um banco de dados para treinamento.\n",
    "- Você carrega um CSV com uma coluna `Entrada`.\n",
    "- Converte os valores para float, limitando entre 1 e 6.\n",
    "- Aplica uma **lógica fuzzy** com `skfuzzy` para classificar essas entradas em:\n",
    "  - `0.25` → Baixa confiança\n",
    "  - `0.5` → Confiança média\n",
    "  - `0.75` → Moderada-alta\n",
    "  - `1.0` → Alta confiança\n",
    "\n",
    "Isso gera um array `array_saidas` com valores exatamente nos níveis que você comentou antes: `{0.25, 0.5, 0.75, 1}`.\n",
    "\n",
    "Agora você quer prever **o próximo valor da sequência fuzzy** (ou seja, prever `array_saidas[n+1]` com base nos anteriores).\n"
   ]
  },
  {
   "cell_type": "code",
   "execution_count": 91,
   "id": "357b3099",
   "metadata": {},
   "outputs": [],
   "source": [
    "import skfuzzy as fuzz\n",
    "import numpy as np\n",
    "import pandas as pd"
   ]
  },
  {
   "cell_type": "code",
   "execution_count": 90,
   "id": "cddcf023",
   "metadata": {},
   "outputs": [],
   "source": [
    "\n",
    "\n",
    "def fuzzy_classification(odd):\n",
    "    \"\"\"\n",
    "    Implementação da lógica fuzzy para classificar as odds no intervalo de 1 a 6.\n",
    "    \"\"\"\n",
    "    odd_range = np.arange(1, 6.1, 0.1)\n",
    "    \n",
    "    # Conjuntos fuzzy ajustados para cobrir todo o intervalo de 1 a 6\n",
    "    baixo = fuzz.trimf(odd_range, [1, 1, 2])\n",
    "    medio = fuzz.trimf(odd_range, [1.5, 3, 4.5])\n",
    "    alto = fuzz.trimf(odd_range, [3.5, 5, 6])\n",
    "    muito_alto = fuzz.trimf(odd_range, [4.5, 6, 6])\n",
    "    \n",
    "    # Graus de pertinência\n",
    "    pert_baixo = fuzz.interp_membership(odd_range, baixo, odd)\n",
    "    pert_medio = fuzz.interp_membership(odd_range, medio, odd)\n",
    "    pert_alto = fuzz.interp_membership(odd_range, alto, odd)\n",
    "    pert_muito_alto = fuzz.interp_membership(odd_range, muito_alto, odd)\n",
    "    \n",
    "    # Classificação baseada nos graus de pertinência\n",
    "    max_pert = max(pert_baixo, pert_medio, pert_alto, pert_muito_alto)\n",
    "    \n",
    "    if max_pert == 0:\n",
    "        return 0  # Nenhuma confiança\n",
    "    \n",
    "    if max_pert == pert_muito_alto:\n",
    "        return 1  # Alta confiança na subida\n",
    "    elif max_pert == pert_alto:\n",
    "        return 0.75  # Confiança moderada-alta\n",
    "    elif max_pert == pert_medio:\n",
    "        return 0.5  # Confiança média\n",
    "    else:\n",
    "        return 0.25  # Baixa confiança"
   ]
  },
  {
   "cell_type": "code",
   "execution_count": 92,
   "id": "3826d8ba",
   "metadata": {},
   "outputs": [],
   "source": [
    "# Carregar os dados\n",
    "path_inicial = '/home/darkcover/Documentos/Out/Documentos/dados/Saidas/FUNCOES/DOUBLE - 17_09_s1.csv'\n",
    "data = pd.read_csv(path_inicial)\n",
    "\n",
    "array_entradas = data['Entrada'].iloc[:1500].reset_index(drop=True)\n",
    "array_saidas = []\n",
    "for i in range(len(array_entradas)):\n",
    "    array_entradas[i] = float(array_entradas[i].replace(',', '.'))\n",
    "    if array_entradas[i] <= 1:\n",
    "        array_entradas[i] = 1\n",
    "    if array_entradas[i] >= 6:\n",
    "        array_entradas[i] = 6\n",
    "\n",
    "    fuzzaqw = fuzzy_classification(array_entradas[i])\n",
    "    array_saidas.append(fuzzaqw)\n",
    "array_saidas = np.array(array_saidas)"
   ]
  },
  {
   "cell_type": "code",
   "execution_count": 35,
   "id": "4e295369",
   "metadata": {},
   "outputs": [
    {
     "data": {
      "text/plain": [
       "<bound method NDFrame.describe of 0        1.83\n",
       "1        1,07\n",
       "2       24,83\n",
       "3       25,25\n",
       "4        8,55\n",
       "        ...  \n",
       "1495     3,61\n",
       "1496     1,18\n",
       "1497     1,52\n",
       "1498     1,42\n",
       "1499     6,51\n",
       "Name: Entrada, Length: 1500, dtype: object>"
      ]
     },
     "execution_count": 35,
     "metadata": {},
     "output_type": "execute_result"
    }
   ],
   "source": [
    "array_entradas.describe"
   ]
  },
  {
   "cell_type": "code",
   "execution_count": 94,
   "id": "a5b50840",
   "metadata": {},
   "outputs": [
    {
     "name": "stdout",
     "output_type": "stream",
     "text": [
      "[0.5  0.25 1.   ... 0.25 0.25 1.  ]\n"
     ]
    }
   ],
   "source": [
    "print(array_saidas)"
   ]
  },
  {
   "cell_type": "markdown",
   "id": "8a35681b",
   "metadata": {},
   "source": [
    "### 🧠 **Plano para usar modelo de Machine Learning (complexo):**\n",
    "\n",
    "Vamos seguir com o plano do MLP (ou se quiser depois, podemos até jogar pra LSTM). Aqui vai um passo a passo com base no que você já tem:\n",
    "\n",
    "---"
   ]
  },
  {
   "cell_type": "code",
   "execution_count": 95,
   "id": "aa2a3155",
   "metadata": {},
   "outputs": [],
   "source": [
    "## ✅ 1. **Criar as janelas de entrada**\n",
    "def criar_sequencias(array, janela=5):\n",
    "    X, y = [], []\n",
    "    for i in range(len(array) - janela):\n",
    "        X.append(array[i:i+janela])\n",
    "        y.append(array[i+janela])\n",
    "    return np.array(X), np.array(y)\n",
    "\n",
    "X, y = criar_sequencias(array_saidas, janela=5)"
   ]
  },
  {
   "cell_type": "markdown",
   "id": "5836122a",
   "metadata": {},
   "source": [
    "### 🤖 2. **Treinar um MLP Classifier**\n",
    "\n",
    "Como os valores são discretos, tratamos como um problema de classificação:\n"
   ]
  },
  {
   "cell_type": "code",
   "execution_count": 96,
   "id": "dd83df7e",
   "metadata": {},
   "outputs": [
    {
     "name": "stdout",
     "output_type": "stream",
     "text": [
      "Acurácia: 0.42\n"
     ]
    }
   ],
   "source": [
    "# Testando com diferentes sequências\n",
    "from sklearn.neural_network import MLPClassifier\n",
    "from sklearn.preprocessing import LabelEncoder\n",
    "from sklearn.model_selection import train_test_split\n",
    "\n",
    "# Encode as classes (0.25, 0.5, 0.75, 1.0)\n",
    "le = LabelEncoder()\n",
    "y_encoded = le.fit_transform(y)\n",
    "\n",
    "# Treino/teste split\n",
    "X_train, X_test, y_train, y_test = train_test_split(X, y_encoded, test_size=0.2, random_state=42)\n",
    "\n",
    "# Modelo\n",
    "modelo = MLPClassifier(hidden_layer_sizes=(64, 32), max_iter=1000, random_state=42)\n",
    "modelo.fit(X_train, y_train)\n",
    "\n",
    "# Acurácia\n",
    "acc = modelo.score(X_test, y_test)\n",
    "print(f\"Acurácia: {acc:.2f}\")\n"
   ]
  },
  {
   "cell_type": "markdown",
   "id": "d70230a4",
   "metadata": {},
   "source": [
    "### 🔮 3. **Prever o próximo valor**"
   ]
  },
  {
   "cell_type": "code",
   "execution_count": 97,
   "id": "c348de22",
   "metadata": {},
   "outputs": [
    {
     "name": "stdout",
     "output_type": "stream",
     "text": [
      "Valor previsto: 0.25\n"
     ]
    }
   ],
   "source": [
    "\n",
    "# Últimos 5 valores da série\n",
    "entrada_atual = array_saidas[-5:].reshape(1, -1)\n",
    "pred = modelo.predict(entrada_atual)\n",
    "valor_previsto = le.inverse_transform(pred)\n",
    "print(\"Valor previsto:\", valor_previsto[0])"
   ]
  }
 ],
 "metadata": {
  "kernelspec": {
   "display_name": "out-idYdofvy-py3.10",
   "language": "python",
   "name": "python3"
  },
  "language_info": {
   "codemirror_mode": {
    "name": "ipython",
    "version": 3
   },
   "file_extension": ".py",
   "mimetype": "text/x-python",
   "name": "python",
   "nbconvert_exporter": "python",
   "pygments_lexer": "ipython3",
   "version": "3.10.17"
  }
 },
 "nbformat": 4,
 "nbformat_minor": 5
}
