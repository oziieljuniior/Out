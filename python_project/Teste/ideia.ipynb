{
 "cells": [
  {
   "cell_type": "markdown",
   "id": "a2048493",
   "metadata": {},
   "source": [
    "# Sequências aleatórias"
   ]
  },
  {
   "cell_type": "code",
   "execution_count": 4,
   "id": "a768bb66",
   "metadata": {},
   "outputs": [],
   "source": [
    "import pandas as pd\n",
    "import numpy as np"
   ]
  },
  {
   "cell_type": "markdown",
   "id": "b6c2d59e",
   "metadata": {},
   "source": [
    "## Função de Matriz Principal\n",
    "Tomaremos um array de tamanho n, no qual n seja divisivel por 60. "
   ]
  },
  {
   "cell_type": "code",
   "execution_count": 5,
   "id": "c6fed7bd",
   "metadata": {},
   "outputs": [],
   "source": [
    "def matriz(num_colunas, array1):\n",
    "    \"\"\"\n",
    "    Gera uma matriz sequencial a partir de um array, com o número de colunas especificado.\n",
    "\n",
    "    Args:\n",
    "        array (list ou np.ndarray): Array de entrada.\n",
    "        num_colunas (int): Número de colunas desejado na matriz.\n",
    "\n",
    "    Returns:\n",
    "        np.ndarray: Matriz sequencial.\n",
    "    \"\"\"\n",
    "    if num_colunas > len(array1):\n",
    "        raise ValueError(\"O número de colunas não pode ser maior que o tamanho do array.\")\n",
    "\n",
    "    # Número de linhas na matriz\n",
    "    num_linhas = len(array1) - num_colunas + 1\n",
    "\n",
    "    # Criando a matriz sequencial\n",
    "    matriz = np.array([array1[i:i + num_colunas] for i in range(num_linhas)])\n",
    "    return matriz"
   ]
  },
  {
   "cell_type": "markdown",
   "id": "abaecee8",
   "metadata": {},
   "source": [
    "### Teste 1\n",
    "* Cria-se um array com entrada n = 420\n",
    "* Transforma-se esse array em uma matriz com tamanho de colunas fixo num_colunas = 60\n",
    "* Espera-se retorno de uma matriz com tamanho 361x60"
   ]
  },
  {
   "cell_type": "code",
   "execution_count": 11,
   "id": "98c98df6",
   "metadata": {},
   "outputs": [
    {
     "name": "stdout",
     "output_type": "stream",
     "text": [
      "Tamanho array de teste: 420\n",
      "Shape matriz de teste:(361, 60)\n"
     ]
    }
   ],
   "source": [
    "array_teste = np.arange(1, 421)\n",
    "print(\"Tamanho array de teste:\", len(array_teste))\n",
    "matriz_teste = matriz(60, array_teste)\n",
    "print(f'Shape matriz de teste:{matriz_teste.shape}')"
   ]
  },
  {
   "cell_type": "markdown",
   "id": "c3305e1f",
   "metadata": {},
   "source": [
    "## Carregando dados para testes\n",
    "Aqui carrega-se uma data especifica de algum de dia de coleta e realize-se o ajuste necessários."
   ]
  },
  {
   "cell_type": "code",
   "execution_count": 12,
   "id": "48017837",
   "metadata": {},
   "outputs": [
    {
     "data": {
      "text/plain": [
       "<bound method NDFrame.head of       22,11    0,5  0,5.1  1  BET Entrada  Odd  P60  P120  P180  ...  \\\n",
       "0         0  22,11  -0,25  1    0    1,83    0  NaN   NaN   NaN  ...   \n",
       "1         1  22,11     -1  0    0    1,07    0  NaN   NaN   NaN  ...   \n",
       "2         2  22,11   1,75  2    0   24,83    1  NaN   NaN   NaN  ...   \n",
       "3         3  22,11   1,75  2    0   25,25    1  NaN   NaN   NaN  ...   \n",
       "4         4  22,11   1,75  2    0    8,55    1  NaN   NaN   NaN  ...   \n",
       "...     ...    ...    ... ..  ...     ...  ...  ...   ...   ...  ...   \n",
       "2511   2511  20,11     -1  0    0       1    0  0.0   0.0   0.0  ...   \n",
       "2512   2512  20,11     -1  0    0       1    0  0.0   0.0   0.0  ...   \n",
       "2513   2513  20,11     -1  0    0       1    0  0.0   0.0   0.0  ...   \n",
       "2514   2514  20,11     -1  0    0       1    0  0.0   0.0   0.0  ...   \n",
       "2515   2515  20,11     -1  0    0       1    0  0.0   0.0   0.0  ...   \n",
       "\n",
       "               P(1)          P(0)   LOG(P(1);2)     LOG(P(2);2)  Unnamed: 125  \\\n",
       "0               NaN           NaN           NaN             NaN           NaN   \n",
       "1               NaN           NaN           NaN             NaN           NaN   \n",
       "2               NaN           NaN           NaN             NaN           NaN   \n",
       "3               NaN           NaN           NaN             NaN           NaN   \n",
       "4               NaN           NaN           NaN             NaN           NaN   \n",
       "...             ...           ...           ...             ...           ...   \n",
       "2511  0,04761904762  0,9523809524  -4,392317423  -0,07038932789           1.0   \n",
       "2512              0             1         #NUM!               0           0.0   \n",
       "2513  0,04761904762  0,9523809524  -4,392317423  -0,07038932789           1.0   \n",
       "2514  0,09523809524  0,9047619048  -3,392317423   -0,1443899093           2.0   \n",
       "2515  0,04761904762  0,9523809524  -4,392317423  -0,07038932789           1.0   \n",
       "\n",
       "      Unnamed: 126  Unnamed: 127  Unnamed: 128  Unnamed: 129    Unnamed: 130  \n",
       "0              NaN           NaN           NaN           NaN             NaN  \n",
       "1              NaN           NaN           NaN           NaN             NaN  \n",
       "2              NaN           NaN           NaN           NaN             NaN  \n",
       "3              NaN           NaN           NaN           NaN             NaN  \n",
       "4              NaN           NaN           NaN           NaN             NaN  \n",
       "...            ...           ...           ...           ...             ...  \n",
       "2511          19.0          0,05          0,95  -4,321928095  -0,07400058144  \n",
       "2512          20.0             0             1         #NUM!               0  \n",
       "2513          19.0          0,05          0,95  -4,321928095  -0,07400058144  \n",
       "2514          18.0           0,1           0,9  -3,321928095   -0,1520030934  \n",
       "2515          19.0          0,05          0,95  -4,321928095  -0,07400058144  \n",
       "\n",
       "[2516 rows x 131 columns]>"
      ]
     },
     "execution_count": 12,
     "metadata": {},
     "output_type": "execute_result"
    }
   ],
   "source": [
    "data = pd.read_csv('/home/ozielramos/Documentos/Out/dados/Saidas/FUNCOES/DOUBLE - 17_09_s1.csv')\n",
    "data.head"
   ]
  },
  {
   "cell_type": "code",
   "execution_count": 13,
   "id": "01d9aa34",
   "metadata": {},
   "outputs": [
    {
     "name": "stdout",
     "output_type": "stream",
     "text": [
      "Tamanho array de teste: 2516\n"
     ]
    }
   ],
   "source": [
    "array_data = []\n",
    "for i in range(len(data)):\n",
    "    array_data.append(data['Entrada'][i])\n",
    "print(\"Tamanho array de teste:\", len(array_data))"
   ]
  }
 ],
 "metadata": {
  "kernelspec": {
   "display_name": "venv",
   "language": "python",
   "name": "python3"
  },
  "language_info": {
   "codemirror_mode": {
    "name": "ipython",
    "version": 3
   },
   "file_extension": ".py",
   "mimetype": "text/x-python",
   "name": "python",
   "nbconvert_exporter": "python",
   "pygments_lexer": "ipython3",
   "version": "3.12.3"
  }
 },
 "nbformat": 4,
 "nbformat_minor": 5
}
