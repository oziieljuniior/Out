{
 "cells": [
  {
   "cell_type": "markdown",
   "id": "a2048493",
   "metadata": {},
   "source": [
    "# Sequências aleatórias"
   ]
  },
  {
   "cell_type": "code",
   "execution_count": 4,
   "id": "a768bb66",
   "metadata": {},
   "outputs": [],
   "source": [
    "import pandas as pd\n",
    "import numpy as np"
   ]
  },
  {
   "cell_type": "markdown",
   "id": "b6c2d59e",
   "metadata": {},
   "source": [
    "## Função de Matriz Principal\n",
    "Tomaremos um array de tamanho n, no qual n seja divisivel por 60. "
   ]
  },
  {
   "cell_type": "code",
   "execution_count": 5,
   "id": "c6fed7bd",
   "metadata": {},
   "outputs": [],
   "source": [
    "def matriz(num_colunas, array1):\n",
    "    \"\"\"\n",
    "    Gera uma matriz sequencial a partir de um array, com o número de colunas especificado.\n",
    "\n",
    "    Args:\n",
    "        array (list ou np.ndarray): Array de entrada.\n",
    "        num_colunas (int): Número de colunas desejado na matriz.\n",
    "\n",
    "    Returns:\n",
    "        np.ndarray: Matriz sequencial.\n",
    "    \"\"\"\n",
    "    if num_colunas > len(array1):\n",
    "        raise ValueError(\"O número de colunas não pode ser maior que o tamanho do array.\")\n",
    "\n",
    "    # Número de linhas na matriz\n",
    "    num_linhas = len(array1) - num_colunas + 1\n",
    "\n",
    "    # Criando a matriz sequencial\n",
    "    matriz = np.array([array1[i:i + num_colunas] for i in range(num_linhas)])\n",
    "    return matriz"
   ]
  },
  {
   "cell_type": "markdown",
   "id": "abaecee8",
   "metadata": {},
   "source": [
    "### Teste 1\n",
    "* Cria-se um array com entrada n = 420\n",
    "* Transforma-se esse array em uma matriz com tamanho de colunas fixo num_colunas = 60\n",
    "* Espera-se retorno de uma matriz com tamanho 361x60"
   ]
  },
  {
   "cell_type": "code",
   "execution_count": 11,
   "id": "98c98df6",
   "metadata": {},
   "outputs": [
    {
     "name": "stdout",
     "output_type": "stream",
     "text": [
      "Tamanho array de teste: 420\n",
      "Shape matriz de teste:(361, 60)\n"
     ]
    }
   ],
   "source": [
    "array_teste = np.arange(1, 421)\n",
    "print(\"Tamanho array de teste:\", len(array_teste))\n",
    "matriz_teste = matriz(60, array_teste)\n",
    "print(f'Shape matriz de teste:{matriz_teste.shape}')"
   ]
  }
 ],
 "metadata": {
  "kernelspec": {
   "display_name": "venv",
   "language": "python",
   "name": "python3"
  },
  "language_info": {
   "codemirror_mode": {
    "name": "ipython",
    "version": 3
   },
   "file_extension": ".py",
   "mimetype": "text/x-python",
   "name": "python",
   "nbconvert_exporter": "python",
   "pygments_lexer": "ipython3",
   "version": "3.12.3"
  }
 },
 "nbformat": 4,
 "nbformat_minor": 5
}
