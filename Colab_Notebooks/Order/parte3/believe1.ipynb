{
 "cells": [
  {
   "cell_type": "code",
   "execution_count": 1,
   "metadata": {},
   "outputs": [
    {
     "name": "stderr",
     "output_type": "stream",
     "text": [
      "2024-08-03 13:28:33.893177: I external/local_xla/xla/tsl/cuda/cudart_stub.cc:32] Could not find cuda drivers on your machine, GPU will not be used.\n",
      "2024-08-03 13:28:33.976814: I external/local_xla/xla/tsl/cuda/cudart_stub.cc:32] Could not find cuda drivers on your machine, GPU will not be used.\n",
      "2024-08-03 13:28:34.071946: E external/local_xla/xla/stream_executor/cuda/cuda_fft.cc:485] Unable to register cuFFT factory: Attempting to register factory for plugin cuFFT when one has already been registered\n",
      "2024-08-03 13:28:34.157605: E external/local_xla/xla/stream_executor/cuda/cuda_dnn.cc:8454] Unable to register cuDNN factory: Attempting to register factory for plugin cuDNN when one has already been registered\n",
      "2024-08-03 13:28:34.177772: E external/local_xla/xla/stream_executor/cuda/cuda_blas.cc:1452] Unable to register cuBLAS factory: Attempting to register factory for plugin cuBLAS when one has already been registered\n",
      "2024-08-03 13:28:34.290065: I tensorflow/core/platform/cpu_feature_guard.cc:210] This TensorFlow binary is optimized to use available CPU instructions in performance-critical operations.\n",
      "To enable the following instructions: AVX2 FMA, in other operations, rebuild TensorFlow with the appropriate compiler flags.\n",
      "2024-08-03 13:28:36.824618: W tensorflow/compiler/tf2tensorrt/utils/py_utils.cc:38] TF-TRT Warning: Could not find TensorRT\n"
     ]
    }
   ],
   "source": [
    "import pandas as pd\n",
    "import numpy as np\n",
    "from sklearn.model_selection import train_test_split\n",
    "from tensorflow.keras.models import Sequential\n",
    "from tensorflow.keras.layers import LSTM, Dense"
   ]
  },
  {
   "cell_type": "code",
   "execution_count": 3,
   "metadata": {},
   "outputs": [],
   "source": [
    "# Carregar os dados\n",
    "data = pd.read_csv(\"/home/darkcover/Documentos/Out/dados/odds_200k.csv\")\n",
    "data = data.drop(columns=['Unnamed: 0'])\n",
    "data = data.rename(columns={'Odd_Categoria': 'odd_saida'})\n",
    "\n",
    "# Preprocessamento dos dados\n",
    "# Converte os valores da coluna 'odd_saida' em binário (0 ou 1)\n",
    "data['binaria'] = data['odd_saida'].apply(lambda x: 1 if x >= 5 else 0)\n",
    "\n",
    "# Dividir os dados em arrays de 320 e 80 entradas\n",
    "def split_data(data, window_size):\n",
    "    X, y = [], []\n",
    "    for i in range(len(data) - window_size):\n",
    "        X.append(data[i:i+window_size])\n",
    "        y.append(data[i+window_size])\n",
    "    return np.array(X), np.array(y)\n",
    "\n",
    "# Definir as janelas de entrada e saída\n",
    "window_size = 320\n",
    "output_size = 80\n"
   ]
  },
  {
   "cell_type": "code",
   "execution_count": 6,
   "metadata": {},
   "outputs": [
    {
     "ename": "TypeError",
     "evalue": "split_data() takes 2 positional arguments but 3 were given",
     "output_type": "error",
     "traceback": [
      "\u001b[0;31m---------------------------------------------------------------------------\u001b[0m",
      "\u001b[0;31mTypeError\u001b[0m                                 Traceback (most recent call last)",
      "Cell \u001b[0;32mIn[6], line 2\u001b[0m\n\u001b[1;32m      1\u001b[0m \u001b[38;5;66;03m# Preparar as entradas e saídas\u001b[39;00m\n\u001b[0;32m----> 2\u001b[0m X, y \u001b[38;5;241m=\u001b[39m \u001b[43msplit_data\u001b[49m\u001b[43m(\u001b[49m\u001b[43mdata\u001b[49m\u001b[43m[\u001b[49m\u001b[38;5;124;43m'\u001b[39;49m\u001b[38;5;124;43mbinaria\u001b[39;49m\u001b[38;5;124;43m'\u001b[39;49m\u001b[43m]\u001b[49m\u001b[38;5;241;43m.\u001b[39;49m\u001b[43mvalues\u001b[49m\u001b[43m,\u001b[49m\u001b[43m \u001b[49m\u001b[43mwindow_size\u001b[49m\u001b[43m,\u001b[49m\u001b[43m \u001b[49m\u001b[43moutput_size\u001b[49m\u001b[43m)\u001b[49m\n\u001b[1;32m      4\u001b[0m \u001b[38;5;66;03m# Dividir os dados em conjuntos de treino e teste\u001b[39;00m\n\u001b[1;32m      5\u001b[0m X_train, X_test, y_train, y_test \u001b[38;5;241m=\u001b[39m train_test_split(X, y, test_size\u001b[38;5;241m=\u001b[39m\u001b[38;5;241m0.2\u001b[39m, random_state\u001b[38;5;241m=\u001b[39m\u001b[38;5;241m42\u001b[39m)\n",
      "\u001b[0;31mTypeError\u001b[0m: split_data() takes 2 positional arguments but 3 were given"
     ]
    }
   ],
   "source": [
    "# Preparar as entradas e saídas\n",
    "X, y = split_data(data['binaria'].values, window_size, output_size)\n",
    "\n",
    "# Dividir os dados em conjuntos de treino e teste\n",
    "X_train, X_test, y_train, y_test = train_test_split(X, y, test_size=0.2, random_state=42)\n",
    "\n",
    "# Remodelar os dados para o formato adequado para o LSTM\n",
    "X_train = np.reshape(X_train, (X_train.shape[0], X_train.shape[1], 1))\n",
    "X_test = np.reshape(X_test, (X_test.shape[0], X_test.shape[1], 1))\n",
    "\n",
    "# Construir o modelo LSTM\n",
    "model = Sequential()\n",
    "model.add(LSTM(50, return_sequences=True, input_shape=(window_size, 1)))\n",
    "model.add(LSTM(50))\n",
    "model.add(Dense(output_size, activation='sigmoid'))\n",
    "\n",
    "model.compile(optimizer='adam', loss='binary_crossentropy', metrics=['accuracy'])\n",
    "\n",
    "# Treinar o modelo\n",
    "model.fit(X_train, y_train, epochs=10, batch_size=64, validation_data=(X_test, y_test))\n",
    "\n",
    "# Fazer previsões\n",
    "predictions = model.predict(X_test)\n",
    "\n",
    "# Verificar a precisão das previsões\n",
    "accuracy = np.mean(np.round(predictions) == y_test)\n",
    "print(f'Precisão: {accuracy:.2f}')"
   ]
  },
  {
   "cell_type": "code",
   "execution_count": 7,
   "metadata": {},
   "outputs": [
    {
     "name": "stderr",
     "output_type": "stream",
     "text": [
      "/home/darkcover/Documentos/Out/venv/lib/python3.10/site-packages/keras/src/layers/rnn/rnn.py:204: UserWarning: Do not pass an `input_shape`/`input_dim` argument to a layer. When using Sequential models, prefer using an `Input(shape)` object as the first layer in the model instead.\n",
      "  super().__init__(**kwargs)\n",
      "2024-08-03 13:33:03.783774: W external/local_tsl/tsl/framework/cpu_allocator_impl.cc:83] Allocation of 408780800 exceeds 10% of free system memory.\n",
      "2024-08-03 13:33:04.551306: W external/local_tsl/tsl/framework/cpu_allocator_impl.cc:83] Allocation of 102195200 exceeds 10% of free system memory.\n"
     ]
    },
    {
     "name": "stdout",
     "output_type": "stream",
     "text": [
      "Epoch 1/10\n",
      "\u001b[1m2495/2495\u001b[0m \u001b[32m━━━━━━━━━━━━━━━━━━━━\u001b[0m\u001b[37m\u001b[0m \u001b[1m0s\u001b[0m 320ms/step - accuracy: 0.0011 - loss: 0.6283"
     ]
    },
    {
     "name": "stderr",
     "output_type": "stream",
     "text": [
      "2024-08-03 13:46:27.663345: W external/local_tsl/tsl/framework/cpu_allocator_impl.cc:83] Allocation of 102195200 exceeds 10% of free system memory.\n",
      "2024-08-03 13:46:28.583394: W external/local_tsl/tsl/framework/cpu_allocator_impl.cc:83] Allocation of 25548800 exceeds 10% of free system memory.\n"
     ]
    },
    {
     "name": "stdout",
     "output_type": "stream",
     "text": [
      "\u001b[1m2495/2495\u001b[0m \u001b[32m━━━━━━━━━━━━━━━━━━━━\u001b[0m\u001b[37m\u001b[0m \u001b[1m947s\u001b[0m 378ms/step - accuracy: 0.0011 - loss: 0.6283 - val_accuracy: 0.0000e+00 - val_loss: 0.6260\n",
      "Epoch 2/10\n",
      "\u001b[1m2495/2495\u001b[0m \u001b[32m━━━━━━━━━━━━━━━━━━━━\u001b[0m\u001b[37m\u001b[0m \u001b[1m970s\u001b[0m 389ms/step - accuracy: 0.0151 - loss: 0.6259 - val_accuracy: 0.0000e+00 - val_loss: 0.6260\n",
      "Epoch 3/10\n",
      "\u001b[1m2495/2495\u001b[0m \u001b[32m━━━━━━━━━━━━━━━━━━━━\u001b[0m\u001b[37m\u001b[0m \u001b[1m849s\u001b[0m 340ms/step - accuracy: 0.0043 - loss: 0.6258 - val_accuracy: 0.0000e+00 - val_loss: 0.6260\n",
      "Epoch 4/10\n",
      "\u001b[1m2495/2495\u001b[0m \u001b[32m━━━━━━━━━━━━━━━━━━━━\u001b[0m\u001b[37m\u001b[0m \u001b[1m827s\u001b[0m 331ms/step - accuracy: 0.0059 - loss: 0.6256 - val_accuracy: 0.0000e+00 - val_loss: 0.6260\n",
      "Epoch 5/10\n",
      "\u001b[1m2495/2495\u001b[0m \u001b[32m━━━━━━━━━━━━━━━━━━━━\u001b[0m\u001b[37m\u001b[0m \u001b[1m937s\u001b[0m 375ms/step - accuracy: 0.0027 - loss: 0.6257 - val_accuracy: 0.0000e+00 - val_loss: 0.6259\n",
      "Epoch 6/10\n",
      "\u001b[1m2495/2495\u001b[0m \u001b[32m━━━━━━━━━━━━━━━━━━━━\u001b[0m\u001b[37m\u001b[0m \u001b[1m935s\u001b[0m 375ms/step - accuracy: 0.0060 - loss: 0.6258 - val_accuracy: 0.0000e+00 - val_loss: 0.6260\n",
      "Epoch 7/10\n",
      "\u001b[1m2495/2495\u001b[0m \u001b[32m━━━━━━━━━━━━━━━━━━━━\u001b[0m\u001b[37m\u001b[0m \u001b[1m979s\u001b[0m 374ms/step - accuracy: 0.0234 - loss: 0.6257 - val_accuracy: 0.0000e+00 - val_loss: 0.6259\n",
      "Epoch 8/10\n",
      "\u001b[1m2495/2495\u001b[0m \u001b[32m━━━━━━━━━━━━━━━━━━━━\u001b[0m\u001b[37m\u001b[0m \u001b[1m976s\u001b[0m 371ms/step - accuracy: 0.0110 - loss: 0.6258 - val_accuracy: 0.0000e+00 - val_loss: 0.6259\n",
      "Epoch 9/10\n",
      "\u001b[1m2495/2495\u001b[0m \u001b[32m━━━━━━━━━━━━━━━━━━━━\u001b[0m\u001b[37m\u001b[0m \u001b[1m882s\u001b[0m 353ms/step - accuracy: 0.0013 - loss: 0.6255 - val_accuracy: 0.0000e+00 - val_loss: 0.6259\n",
      "Epoch 10/10\n",
      "\u001b[1m2495/2495\u001b[0m \u001b[32m━━━━━━━━━━━━━━━━━━━━\u001b[0m\u001b[37m\u001b[0m \u001b[1m778s\u001b[0m 296ms/step - accuracy: 0.0015 - loss: 0.6257 - val_accuracy: 0.0000e+00 - val_loss: 0.6259\n",
      "\u001b[1m1248/1248\u001b[0m \u001b[32m━━━━━━━━━━━━━━━━━━━━\u001b[0m\u001b[37m\u001b[0m \u001b[1m114s\u001b[0m 91ms/step\n",
      "Precisão: 0.68\n"
     ]
    }
   ],
   "source": [
    "import pandas as pd\n",
    "import numpy as np\n",
    "from sklearn.model_selection import train_test_split\n",
    "from tensorflow.keras.models import Sequential\n",
    "from tensorflow.keras.layers import LSTM, Dense\n",
    "\n",
    "# Carregar os dados\n",
    "data = pd.read_csv(\"/home/darkcover/Documentos/Out/dados/odds_200k.csv\")\n",
    "data = data.drop(columns=['Unnamed: 0'])\n",
    "data = data.rename(columns={'Odd_Categoria': 'odd_saida'})\n",
    "\n",
    "# Preprocessamento dos dados\n",
    "data['binaria'] = data['odd_saida'].apply(lambda x: 1 if x >= 5 else 0)\n",
    "\n",
    "# Função para dividir os dados em segmentos\n",
    "def split_data(data, window_size, output_size):\n",
    "    X, y = [], []\n",
    "    for i in range(len(data) - window_size - output_size + 1):\n",
    "        X.append(data[i:i+window_size])\n",
    "        y.append(data[i+window_size:i+window_size+output_size])\n",
    "    return np.array(X), np.array(y)\n",
    "\n",
    "# Definir as janelas de entrada e saída\n",
    "window_size = 320\n",
    "output_size = 80\n",
    "\n",
    "# Preparar as entradas e saídas\n",
    "X, y = split_data(data['binaria'].values, window_size, output_size)\n",
    "\n",
    "# Dividir os dados em conjuntos de treino e teste\n",
    "X_train, X_test, y_train, y_test = train_test_split(X, y, test_size=0.2, random_state=42)\n",
    "\n",
    "# Remodelar os dados para o formato adequado para o LSTM\n",
    "X_train = np.reshape(X_train, (X_train.shape[0], X_train.shape[1], 1))\n",
    "X_test = np.reshape(X_test, (X_test.shape[0], X_test.shape[1], 1))\n",
    "\n",
    "# Construir o modelo LSTM\n",
    "model = Sequential()\n",
    "model.add(LSTM(50, return_sequences=True, input_shape=(window_size, 1)))\n",
    "model.add(LSTM(50))\n",
    "model.add(Dense(output_size, activation='sigmoid'))\n",
    "\n",
    "model.compile(optimizer='adam', loss='binary_crossentropy', metrics=['accuracy'])\n",
    "\n",
    "# Treinar o modelo\n",
    "model.fit(X_train, y_train, epochs=10, batch_size=64, validation_data=(X_test, y_test))\n",
    "\n",
    "# Fazer previsões\n",
    "predictions = model.predict(X_test)\n",
    "\n",
    "# Verificar a precisão das previsões\n",
    "accuracy = np.mean(np.round(predictions) == y_test)\n",
    "print(f'Precisão: {accuracy:.2f}')\n"
   ]
  },
  {
   "cell_type": "code",
   "execution_count": null,
   "metadata": {},
   "outputs": [],
   "source": []
  }
 ],
 "metadata": {
  "kernelspec": {
   "display_name": "venv",
   "language": "python",
   "name": "python3"
  },
  "language_info": {
   "codemirror_mode": {
    "name": "ipython",
    "version": 3
   },
   "file_extension": ".py",
   "mimetype": "text/x-python",
   "name": "python",
   "nbconvert_exporter": "python",
   "pygments_lexer": "ipython3",
   "version": "3.10.12"
  }
 },
 "nbformat": 4,
 "nbformat_minor": 2
}
