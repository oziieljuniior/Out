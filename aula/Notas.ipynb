{
 "cells": [
  {
   "cell_type": "code",
   "execution_count": 1,
   "metadata": {},
   "outputs": [],
   "source": [
    "import pandas as pd"
   ]
  },
  {
   "cell_type": "code",
   "execution_count": 3,
   "metadata": {},
   "outputs": [
    {
     "data": {
      "text/html": [
       "<div>\n",
       "<style scoped>\n",
       "    .dataframe tbody tr th:only-of-type {\n",
       "        vertical-align: middle;\n",
       "    }\n",
       "\n",
       "    .dataframe tbody tr th {\n",
       "        vertical-align: top;\n",
       "    }\n",
       "\n",
       "    .dataframe thead th {\n",
       "        text-align: right;\n",
       "    }\n",
       "</style>\n",
       "<table border=\"1\" class=\"dataframe\">\n",
       "  <thead>\n",
       "    <tr style=\"text-align: right;\">\n",
       "      <th></th>\n",
       "      <th>Unnamed: 0</th>\n",
       "      <th>Odd</th>\n",
       "      <th>Odd_Categoria</th>\n",
       "      <th>odd_entrada</th>\n",
       "    </tr>\n",
       "  </thead>\n",
       "  <tbody>\n",
       "    <tr>\n",
       "      <th>0</th>\n",
       "      <td>0</td>\n",
       "      <td>3.85</td>\n",
       "      <td>9</td>\n",
       "      <td>11.0</td>\n",
       "    </tr>\n",
       "    <tr>\n",
       "      <th>1</th>\n",
       "      <td>1</td>\n",
       "      <td>6.96</td>\n",
       "      <td>10</td>\n",
       "      <td>9.0</td>\n",
       "    </tr>\n",
       "    <tr>\n",
       "      <th>2</th>\n",
       "      <td>2</td>\n",
       "      <td>5.41</td>\n",
       "      <td>10</td>\n",
       "      <td>10.0</td>\n",
       "    </tr>\n",
       "    <tr>\n",
       "      <th>3</th>\n",
       "      <td>3</td>\n",
       "      <td>1.05</td>\n",
       "      <td>2</td>\n",
       "      <td>10.0</td>\n",
       "    </tr>\n",
       "    <tr>\n",
       "      <th>4</th>\n",
       "      <td>4</td>\n",
       "      <td>1.70</td>\n",
       "      <td>6</td>\n",
       "      <td>2.0</td>\n",
       "    </tr>\n",
       "  </tbody>\n",
       "</table>\n",
       "</div>"
      ],
      "text/plain": [
       "   Unnamed: 0   Odd  Odd_Categoria  odd_entrada\n",
       "0           0  3.85              9         11.0\n",
       "1           1  6.96             10          9.0\n",
       "2           2  5.41             10         10.0\n",
       "3           3  1.05              2         10.0\n",
       "4           4  1.70              6          2.0"
      ]
     },
     "execution_count": 3,
     "metadata": {},
     "output_type": "execute_result"
    }
   ],
   "source": [
    "dados = pd.read_csv(\"/home/darkcover/Documentos/Out/dados/odds_200k.csv\")\n",
    "dados.head()"
   ]
  },
  {
   "cell_type": "code",
   "execution_count": 4,
   "metadata": {},
   "outputs": [],
   "source": [
    "data_symbol = dados['Odd_Categoria']"
   ]
  },
  {
   "cell_type": "code",
   "execution_count": 5,
   "metadata": {},
   "outputs": [],
   "source": [
    "data_symbol = data_symbol.tail(500).reset_index(drop=True)"
   ]
  },
  {
   "cell_type": "code",
   "execution_count": 6,
   "metadata": {},
   "outputs": [],
   "source": [
    "data_symbol.to_csv('/home/darkcover/Documentos/Out/dados/estudo.csv')"
   ]
  },
  {
   "cell_type": "code",
   "execution_count": 8,
   "metadata": {},
   "outputs": [
    {
     "name": "stdout",
     "output_type": "stream",
     "text": [
      "199999\n"
     ]
    },
    {
     "data": {
      "text/plain": [
       "count    500.00000\n",
       "mean       6.20000\n",
       "std        2.89703\n",
       "min        1.00000\n",
       "25%        4.00000\n",
       "50%        6.00000\n",
       "75%        9.00000\n",
       "max       10.00000\n",
       "Name: Odd_Categoria1, dtype: float64"
      ]
     },
     "execution_count": 8,
     "metadata": {},
     "output_type": "execute_result"
    }
   ],
   "source": [
    "geral_cat = []\n",
    "for name in dados['Odd']:\n",
    "  #print(name)\n",
    "  if name < 1.05:\n",
    "    geral_cat.append(1)\n",
    "  elif name >= 1.05 and name < 1.15:\n",
    "    geral_cat.append(2)\n",
    "  elif name >= 1.15 and name < 1.3:\n",
    "    geral_cat.append(3)\n",
    "  elif name >= 1.3 and name < 1.45:\n",
    "    geral_cat.append(4)\n",
    "  elif name >= 1.45 and name < 1.7:\n",
    "    geral_cat.append(5)\n",
    "  elif name >= 1.7 and name < 2.1:\n",
    "    geral_cat.append(6)\n",
    "  elif name >= 2.1 and name < 2.6:\n",
    "    geral_cat.append(7)\n",
    "  elif name >= 2.6 and name < 3.5:\n",
    "    geral_cat.append(8)\n",
    "  elif name >= 3.5 and name < 5:\n",
    "    geral_cat.append(9)\n",
    "  elif name >= 5:\n",
    "    geral_cat.append(10)\n",
    "\n",
    "print(len(geral_cat))\n",
    "geral_cat1 = pd.DataFrame([geral_cat]).T\n",
    "geral_cat1.columns = ['Odd_Categoria1']\n",
    "geral_cat1 = geral_cat1.tail(500).reset_index(drop=True)\n",
    "geral_cat1.to_csv('/home/darkcover/Documentos/Out/dados/estudo1.csv')\n",
    "data = pd.concat([dados, geral_cat1], axis = 1)\n",
    "\n",
    "data['Odd_Categoria1'].describe()"
   ]
  },
  {
   "cell_type": "code",
   "execution_count": 9,
   "metadata": {},
   "outputs": [
    {
     "name": "stdout",
     "output_type": "stream",
     "text": [
      "199999\n"
     ]
    },
    {
     "data": {
      "text/plain": [
       "count    500.000000\n",
       "mean       5.262000\n",
       "std        2.793737\n",
       "min        1.000000\n",
       "25%        3.000000\n",
       "50%        5.000000\n",
       "75%        8.000000\n",
       "max        9.000000\n",
       "Name: Odd_Categoria2, dtype: float64"
      ]
     },
     "execution_count": 9,
     "metadata": {},
     "output_type": "execute_result"
    }
   ],
   "source": [
    "geral_cat = []\n",
    "for name in dados['Odd']:\n",
    "  #print(name)\n",
    "  if name < 1.15:\n",
    "    geral_cat.append(1)\n",
    "  elif name >= 1.15 and name < 1.3:\n",
    "    geral_cat.append(2)\n",
    "  elif name >= 1.3 and name < 1.45:\n",
    "    geral_cat.append(3)\n",
    "  elif name >= 1.45 and name < 1.7:\n",
    "    geral_cat.append(4)\n",
    "  elif name >= 1.7 and name < 2.1:\n",
    "    geral_cat.append(5)\n",
    "  elif name >= 2.1 and name < 2.6:\n",
    "    geral_cat.append(6)\n",
    "  elif name >= 2.6 and name < 3.5:\n",
    "    geral_cat.append(7)\n",
    "  elif name >= 3.5 and name < 5:\n",
    "    geral_cat.append(8)\n",
    "  elif name >= 5:\n",
    "    geral_cat.append(9)\n",
    "\n",
    "print(len(geral_cat))\n",
    "geral_cat1 = pd.DataFrame([geral_cat]).T\n",
    "geral_cat1.columns = ['Odd_Categoria2']\n",
    "geral_cat1 = geral_cat1.tail(500).reset_index(drop=True)\n",
    "geral_cat1.to_csv('/home/darkcover/Documentos/Out/dados/estudo2.csv')\n",
    "data = pd.concat([dados, geral_cat1], axis = 1)\n",
    "\n",
    "data['Odd_Categoria2'].describe()"
   ]
  },
  {
   "cell_type": "code",
   "execution_count": 10,
   "metadata": {},
   "outputs": [
    {
     "name": "stdout",
     "output_type": "stream",
     "text": [
      "199999\n"
     ]
    },
    {
     "data": {
      "text/plain": [
       "count    500.000000\n",
       "mean       5.054000\n",
       "std        2.532175\n",
       "min        1.000000\n",
       "25%        3.000000\n",
       "50%        5.000000\n",
       "75%        8.000000\n",
       "max        8.000000\n",
       "Name: Odd_Categoria3, dtype: float64"
      ]
     },
     "execution_count": 10,
     "metadata": {},
     "output_type": "execute_result"
    }
   ],
   "source": [
    "geral_cat = []\n",
    "for name in dados['Odd']:\n",
    "  #print(name)\n",
    "  if name < 1.15:\n",
    "    geral_cat.append(1)\n",
    "  elif name >= 1.15 and name < 1.3:\n",
    "    geral_cat.append(2)\n",
    "  elif name >= 1.3 and name < 1.45:\n",
    "    geral_cat.append(3)\n",
    "  elif name >= 1.45 and name < 1.7:\n",
    "    geral_cat.append(4)\n",
    "  elif name >= 1.7 and name < 2.1:\n",
    "    geral_cat.append(5)\n",
    "  elif name >= 2.1 and name < 2.6:\n",
    "    geral_cat.append(6)\n",
    "  elif name >= 2.6 and name < 3.5:\n",
    "    geral_cat.append(7)\n",
    "  elif name >= 3.5:\n",
    "    geral_cat.append(8)\n",
    "\n",
    "print(len(geral_cat))\n",
    "geral_cat1 = pd.DataFrame([geral_cat]).T\n",
    "geral_cat1.columns = ['Odd_Categoria3']\n",
    "geral_cat1 = geral_cat1.tail(500).reset_index(drop=True)\n",
    "geral_cat1.to_csv('/home/darkcover/Documentos/Out/dados/estudo3.csv')\n",
    "data = pd.concat([dados, geral_cat1], axis = 1)\n",
    "\n",
    "data['Odd_Categoria3'].describe()"
   ]
  },
  {
   "cell_type": "code",
   "execution_count": 11,
   "metadata": {},
   "outputs": [
    {
     "name": "stdout",
     "output_type": "stream",
     "text": [
      "199999\n"
     ]
    },
    {
     "data": {
      "text/plain": [
       "count    500.000000\n",
       "mean       4.182000\n",
       "std        2.341761\n",
       "min        1.000000\n",
       "25%        2.000000\n",
       "50%        4.000000\n",
       "75%        7.000000\n",
       "max        7.000000\n",
       "Name: Odd_Categoria4, dtype: float64"
      ]
     },
     "execution_count": 11,
     "metadata": {},
     "output_type": "execute_result"
    }
   ],
   "source": [
    "geral_cat = []\n",
    "for name in dados['Odd']:\n",
    "  #print(name)\n",
    "  if name < 1.3:\n",
    "    geral_cat.append(1)\n",
    "  elif name >= 1.3 and name < 1.45:\n",
    "    geral_cat.append(2)\n",
    "  elif name >= 1.45 and name < 1.7:\n",
    "    geral_cat.append(3)\n",
    "  elif name >= 1.7 and name < 2.1:\n",
    "    geral_cat.append(4)\n",
    "  elif name >= 2.1 and name < 2.6:\n",
    "    geral_cat.append(5)\n",
    "  elif name >= 2.6 and name < 3.5:\n",
    "    geral_cat.append(6)\n",
    "  elif name >= 3.5:\n",
    "    geral_cat.append(7)\n",
    "\n",
    "print(len(geral_cat))\n",
    "geral_cat1 = pd.DataFrame([geral_cat]).T\n",
    "geral_cat1.columns = ['Odd_Categoria4']\n",
    "geral_cat1 = geral_cat1.tail(500).reset_index(drop=True)\n",
    "geral_cat1.to_csv('/home/darkcover/Documentos/Out/dados/estudo4.csv')\n",
    "data = pd.concat([dados, geral_cat1], axis = 1)\n",
    "\n",
    "data['Odd_Categoria4'].describe()"
   ]
  },
  {
   "cell_type": "code",
   "execution_count": 12,
   "metadata": {},
   "outputs": [
    {
     "name": "stdout",
     "output_type": "stream",
     "text": [
      "199999\n"
     ]
    },
    {
     "data": {
      "text/plain": [
       "count    500.000000\n",
       "mean       3.902000\n",
       "std        2.025983\n",
       "min        1.000000\n",
       "25%        2.000000\n",
       "50%        4.000000\n",
       "75%        6.000000\n",
       "max        6.000000\n",
       "Name: Odd_Categoria5, dtype: float64"
      ]
     },
     "execution_count": 12,
     "metadata": {},
     "output_type": "execute_result"
    }
   ],
   "source": [
    "geral_cat = []\n",
    "for name in dados['Odd']:\n",
    "  #print(name)\n",
    "  if name < 1.3:\n",
    "    geral_cat.append(1)\n",
    "  elif name >= 1.3 and name < 1.45:\n",
    "    geral_cat.append(2)\n",
    "  elif name >= 1.45 and name < 1.7:\n",
    "    geral_cat.append(3)\n",
    "  elif name >= 1.7 and name < 2.1:\n",
    "    geral_cat.append(4)\n",
    "  elif name >= 2.1 and name < 2.6:\n",
    "    geral_cat.append(5)\n",
    "  elif name >= 2.6:\n",
    "    geral_cat.append(6)\n",
    "\n",
    "print(len(geral_cat))\n",
    "geral_cat1 = pd.DataFrame([geral_cat]).T\n",
    "geral_cat1.columns = ['Odd_Categoria5']\n",
    "geral_cat1 = geral_cat1.tail(500).reset_index(drop=True)\n",
    "geral_cat1.to_csv('/home/darkcover/Documentos/Out/dados/estudo5.csv')\n",
    "\n",
    "\n",
    "data = pd.concat([dados, geral_cat1], axis = 1)\n",
    "\n",
    "\n",
    "data['Odd_Categoria5'].describe()"
   ]
  }
 ],
 "metadata": {
  "kernelspec": {
   "display_name": "venv",
   "language": "python",
   "name": "python3"
  },
  "language_info": {
   "codemirror_mode": {
    "name": "ipython",
    "version": 3
   },
   "file_extension": ".py",
   "mimetype": "text/x-python",
   "name": "python",
   "nbconvert_exporter": "python",
   "pygments_lexer": "ipython3",
   "version": "3.10.12"
  }
 },
 "nbformat": 4,
 "nbformat_minor": 2
}
